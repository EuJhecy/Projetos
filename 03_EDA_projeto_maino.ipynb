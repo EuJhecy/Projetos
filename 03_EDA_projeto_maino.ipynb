{
  "nbformat": 4,
  "nbformat_minor": 0,
  "metadata": {
    "colab": {
      "provenance": []
    },
    "kernelspec": {
      "name": "python3",
      "display_name": "Python 3"
    },
    "language_info": {
      "name": "python"
    }
  },
  "cells": [
    {
      "cell_type": "code",
      "execution_count": null,
      "metadata": {
        "id": "KzEZ90gNARBq"
      },
      "outputs": [],
      "source": [
        "# importar bibliotecas\n",
        "import pandas as pd\n",
        "import numpy as np\n",
        "import matplotlib.pyplot as plt\n",
        "import seaborn as sns"
      ]
    },
    {
      "cell_type": "markdown",
      "source": [
        "**Passo 1: entendendo o conjunto de dados**"
      ],
      "metadata": {
        "id": "KowfRb16CVjC"
      }
    },
    {
      "cell_type": "code",
      "source": [
        "# importando dados excel\n",
        "base_dados = pd.read_excel('/content/[DS] Vendas do comercial.xlsx')"
      ],
      "metadata": {
        "id": "NwF8jE47AuNP"
      },
      "execution_count": null,
      "outputs": []
    },
    {
      "cell_type": "code",
      "source": [
        "# 5 primeiras linhas\n",
        "base_dados.head()"
      ],
      "metadata": {
        "colab": {
          "base_uri": "https://localhost:8080/",
          "height": 313
        },
        "id": "APJ0Ab0OBJS-",
        "outputId": "5c6d1d14-61c8-4154-c8eb-6cc1936f5bbd"
      },
      "execution_count": null,
      "outputs": [
        {
          "output_type": "execute_result",
          "data": {
            "text/plain": [
              "   dt_inicio dt_fechamento          plano  qtd_emissores_contrato  mrr_venda  \\\n",
              "0 2024-04-17    2024-11-07  PlanoEmpresas                       2     3120.0   \n",
              "1 2024-04-22    2024-10-17         PlanoI                       1     3255.0   \n",
              "2 2024-04-25    2024-07-30        PlanoII                       1     3240.0   \n",
              "3 2024-05-31    2024-11-06        PlanoII                       1     4290.0   \n",
              "4 2024-04-06    2024-06-13  PlanoEmpresas                       1     3000.0   \n",
              "\n",
              "   periodo_desconto(meses)  desconto(%) implantacao_contrato  \\\n",
              "0                        0            0               Nível1   \n",
              "1                        0            0               Nível1   \n",
              "2                        6           44               Nível1   \n",
              "3                        0            0               Nível1   \n",
              "4                        0            0               Nível1   \n",
              "\n",
              "   implantacao_desconto(%)  implantacao_valor_com_desconto  \\\n",
              "0                       20                          1683.0   \n",
              "1                       15                          3500.0   \n",
              "2                       10                          1490.0   \n",
              "3                       30                          2100.0   \n",
              "4                       20                           200.0   \n",
              "\n",
              "   implantacao_parcelas  dia_pagamento_parcelas_mrr                 sdr  \\\n",
              "0                     1                          15      AmandaOliveira   \n",
              "1                     3                          20  PriscilaFormaggini   \n",
              "2                     9                           5        LíviaAzevedo   \n",
              "3                     1                          15      AmandaOliveira   \n",
              "4                     1                           5        LíviaAzevedo   \n",
              "\n",
              "         consultor  \n",
              "0   ThaynáTheodoro  \n",
              "1  EduardoFerreira  \n",
              "2   ThaynáTheodoro  \n",
              "3  EduardoFerreira  \n",
              "4  EduardoFerreira  "
            ],
            "text/html": [
              "\n",
              "  <div id=\"df-718a033e-8d3f-427c-a2dc-e458c29967dd\" class=\"colab-df-container\">\n",
              "    <div>\n",
              "<style scoped>\n",
              "    .dataframe tbody tr th:only-of-type {\n",
              "        vertical-align: middle;\n",
              "    }\n",
              "\n",
              "    .dataframe tbody tr th {\n",
              "        vertical-align: top;\n",
              "    }\n",
              "\n",
              "    .dataframe thead th {\n",
              "        text-align: right;\n",
              "    }\n",
              "</style>\n",
              "<table border=\"1\" class=\"dataframe\">\n",
              "  <thead>\n",
              "    <tr style=\"text-align: right;\">\n",
              "      <th></th>\n",
              "      <th>dt_inicio</th>\n",
              "      <th>dt_fechamento</th>\n",
              "      <th>plano</th>\n",
              "      <th>qtd_emissores_contrato</th>\n",
              "      <th>mrr_venda</th>\n",
              "      <th>periodo_desconto(meses)</th>\n",
              "      <th>desconto(%)</th>\n",
              "      <th>implantacao_contrato</th>\n",
              "      <th>implantacao_desconto(%)</th>\n",
              "      <th>implantacao_valor_com_desconto</th>\n",
              "      <th>implantacao_parcelas</th>\n",
              "      <th>dia_pagamento_parcelas_mrr</th>\n",
              "      <th>sdr</th>\n",
              "      <th>consultor</th>\n",
              "    </tr>\n",
              "  </thead>\n",
              "  <tbody>\n",
              "    <tr>\n",
              "      <th>0</th>\n",
              "      <td>2024-04-17</td>\n",
              "      <td>2024-11-07</td>\n",
              "      <td>PlanoEmpresas</td>\n",
              "      <td>2</td>\n",
              "      <td>3120.0</td>\n",
              "      <td>0</td>\n",
              "      <td>0</td>\n",
              "      <td>Nível1</td>\n",
              "      <td>20</td>\n",
              "      <td>1683.0</td>\n",
              "      <td>1</td>\n",
              "      <td>15</td>\n",
              "      <td>AmandaOliveira</td>\n",
              "      <td>ThaynáTheodoro</td>\n",
              "    </tr>\n",
              "    <tr>\n",
              "      <th>1</th>\n",
              "      <td>2024-04-22</td>\n",
              "      <td>2024-10-17</td>\n",
              "      <td>PlanoI</td>\n",
              "      <td>1</td>\n",
              "      <td>3255.0</td>\n",
              "      <td>0</td>\n",
              "      <td>0</td>\n",
              "      <td>Nível1</td>\n",
              "      <td>15</td>\n",
              "      <td>3500.0</td>\n",
              "      <td>3</td>\n",
              "      <td>20</td>\n",
              "      <td>PriscilaFormaggini</td>\n",
              "      <td>EduardoFerreira</td>\n",
              "    </tr>\n",
              "    <tr>\n",
              "      <th>2</th>\n",
              "      <td>2024-04-25</td>\n",
              "      <td>2024-07-30</td>\n",
              "      <td>PlanoII</td>\n",
              "      <td>1</td>\n",
              "      <td>3240.0</td>\n",
              "      <td>6</td>\n",
              "      <td>44</td>\n",
              "      <td>Nível1</td>\n",
              "      <td>10</td>\n",
              "      <td>1490.0</td>\n",
              "      <td>9</td>\n",
              "      <td>5</td>\n",
              "      <td>LíviaAzevedo</td>\n",
              "      <td>ThaynáTheodoro</td>\n",
              "    </tr>\n",
              "    <tr>\n",
              "      <th>3</th>\n",
              "      <td>2024-05-31</td>\n",
              "      <td>2024-11-06</td>\n",
              "      <td>PlanoII</td>\n",
              "      <td>1</td>\n",
              "      <td>4290.0</td>\n",
              "      <td>0</td>\n",
              "      <td>0</td>\n",
              "      <td>Nível1</td>\n",
              "      <td>30</td>\n",
              "      <td>2100.0</td>\n",
              "      <td>1</td>\n",
              "      <td>15</td>\n",
              "      <td>AmandaOliveira</td>\n",
              "      <td>EduardoFerreira</td>\n",
              "    </tr>\n",
              "    <tr>\n",
              "      <th>4</th>\n",
              "      <td>2024-04-06</td>\n",
              "      <td>2024-06-13</td>\n",
              "      <td>PlanoEmpresas</td>\n",
              "      <td>1</td>\n",
              "      <td>3000.0</td>\n",
              "      <td>0</td>\n",
              "      <td>0</td>\n",
              "      <td>Nível1</td>\n",
              "      <td>20</td>\n",
              "      <td>200.0</td>\n",
              "      <td>1</td>\n",
              "      <td>5</td>\n",
              "      <td>LíviaAzevedo</td>\n",
              "      <td>EduardoFerreira</td>\n",
              "    </tr>\n",
              "  </tbody>\n",
              "</table>\n",
              "</div>\n",
              "    <div class=\"colab-df-buttons\">\n",
              "\n",
              "  <div class=\"colab-df-container\">\n",
              "    <button class=\"colab-df-convert\" onclick=\"convertToInteractive('df-718a033e-8d3f-427c-a2dc-e458c29967dd')\"\n",
              "            title=\"Convert this dataframe to an interactive table.\"\n",
              "            style=\"display:none;\">\n",
              "\n",
              "  <svg xmlns=\"http://www.w3.org/2000/svg\" height=\"24px\" viewBox=\"0 -960 960 960\">\n",
              "    <path d=\"M120-120v-720h720v720H120Zm60-500h600v-160H180v160Zm220 220h160v-160H400v160Zm0 220h160v-160H400v160ZM180-400h160v-160H180v160Zm440 0h160v-160H620v160ZM180-180h160v-160H180v160Zm440 0h160v-160H620v160Z\"/>\n",
              "  </svg>\n",
              "    </button>\n",
              "\n",
              "  <style>\n",
              "    .colab-df-container {\n",
              "      display:flex;\n",
              "      gap: 12px;\n",
              "    }\n",
              "\n",
              "    .colab-df-convert {\n",
              "      background-color: #E8F0FE;\n",
              "      border: none;\n",
              "      border-radius: 50%;\n",
              "      cursor: pointer;\n",
              "      display: none;\n",
              "      fill: #1967D2;\n",
              "      height: 32px;\n",
              "      padding: 0 0 0 0;\n",
              "      width: 32px;\n",
              "    }\n",
              "\n",
              "    .colab-df-convert:hover {\n",
              "      background-color: #E2EBFA;\n",
              "      box-shadow: 0px 1px 2px rgba(60, 64, 67, 0.3), 0px 1px 3px 1px rgba(60, 64, 67, 0.15);\n",
              "      fill: #174EA6;\n",
              "    }\n",
              "\n",
              "    .colab-df-buttons div {\n",
              "      margin-bottom: 4px;\n",
              "    }\n",
              "\n",
              "    [theme=dark] .colab-df-convert {\n",
              "      background-color: #3B4455;\n",
              "      fill: #D2E3FC;\n",
              "    }\n",
              "\n",
              "    [theme=dark] .colab-df-convert:hover {\n",
              "      background-color: #434B5C;\n",
              "      box-shadow: 0px 1px 3px 1px rgba(0, 0, 0, 0.15);\n",
              "      filter: drop-shadow(0px 1px 2px rgba(0, 0, 0, 0.3));\n",
              "      fill: #FFFFFF;\n",
              "    }\n",
              "  </style>\n",
              "\n",
              "    <script>\n",
              "      const buttonEl =\n",
              "        document.querySelector('#df-718a033e-8d3f-427c-a2dc-e458c29967dd button.colab-df-convert');\n",
              "      buttonEl.style.display =\n",
              "        google.colab.kernel.accessAllowed ? 'block' : 'none';\n",
              "\n",
              "      async function convertToInteractive(key) {\n",
              "        const element = document.querySelector('#df-718a033e-8d3f-427c-a2dc-e458c29967dd');\n",
              "        const dataTable =\n",
              "          await google.colab.kernel.invokeFunction('convertToInteractive',\n",
              "                                                    [key], {});\n",
              "        if (!dataTable) return;\n",
              "\n",
              "        const docLinkHtml = 'Like what you see? Visit the ' +\n",
              "          '<a target=\"_blank\" href=https://colab.research.google.com/notebooks/data_table.ipynb>data table notebook</a>'\n",
              "          + ' to learn more about interactive tables.';\n",
              "        element.innerHTML = '';\n",
              "        dataTable['output_type'] = 'display_data';\n",
              "        await google.colab.output.renderOutput(dataTable, element);\n",
              "        const docLink = document.createElement('div');\n",
              "        docLink.innerHTML = docLinkHtml;\n",
              "        element.appendChild(docLink);\n",
              "      }\n",
              "    </script>\n",
              "  </div>\n",
              "\n",
              "\n",
              "<div id=\"df-ec44e3b2-e8cb-4e28-8ad8-757d19a56c11\">\n",
              "  <button class=\"colab-df-quickchart\" onclick=\"quickchart('df-ec44e3b2-e8cb-4e28-8ad8-757d19a56c11')\"\n",
              "            title=\"Suggest charts\"\n",
              "            style=\"display:none;\">\n",
              "\n",
              "<svg xmlns=\"http://www.w3.org/2000/svg\" height=\"24px\"viewBox=\"0 0 24 24\"\n",
              "     width=\"24px\">\n",
              "    <g>\n",
              "        <path d=\"M19 3H5c-1.1 0-2 .9-2 2v14c0 1.1.9 2 2 2h14c1.1 0 2-.9 2-2V5c0-1.1-.9-2-2-2zM9 17H7v-7h2v7zm4 0h-2V7h2v10zm4 0h-2v-4h2v4z\"/>\n",
              "    </g>\n",
              "</svg>\n",
              "  </button>\n",
              "\n",
              "<style>\n",
              "  .colab-df-quickchart {\n",
              "      --bg-color: #E8F0FE;\n",
              "      --fill-color: #1967D2;\n",
              "      --hover-bg-color: #E2EBFA;\n",
              "      --hover-fill-color: #174EA6;\n",
              "      --disabled-fill-color: #AAA;\n",
              "      --disabled-bg-color: #DDD;\n",
              "  }\n",
              "\n",
              "  [theme=dark] .colab-df-quickchart {\n",
              "      --bg-color: #3B4455;\n",
              "      --fill-color: #D2E3FC;\n",
              "      --hover-bg-color: #434B5C;\n",
              "      --hover-fill-color: #FFFFFF;\n",
              "      --disabled-bg-color: #3B4455;\n",
              "      --disabled-fill-color: #666;\n",
              "  }\n",
              "\n",
              "  .colab-df-quickchart {\n",
              "    background-color: var(--bg-color);\n",
              "    border: none;\n",
              "    border-radius: 50%;\n",
              "    cursor: pointer;\n",
              "    display: none;\n",
              "    fill: var(--fill-color);\n",
              "    height: 32px;\n",
              "    padding: 0;\n",
              "    width: 32px;\n",
              "  }\n",
              "\n",
              "  .colab-df-quickchart:hover {\n",
              "    background-color: var(--hover-bg-color);\n",
              "    box-shadow: 0 1px 2px rgba(60, 64, 67, 0.3), 0 1px 3px 1px rgba(60, 64, 67, 0.15);\n",
              "    fill: var(--button-hover-fill-color);\n",
              "  }\n",
              "\n",
              "  .colab-df-quickchart-complete:disabled,\n",
              "  .colab-df-quickchart-complete:disabled:hover {\n",
              "    background-color: var(--disabled-bg-color);\n",
              "    fill: var(--disabled-fill-color);\n",
              "    box-shadow: none;\n",
              "  }\n",
              "\n",
              "  .colab-df-spinner {\n",
              "    border: 2px solid var(--fill-color);\n",
              "    border-color: transparent;\n",
              "    border-bottom-color: var(--fill-color);\n",
              "    animation:\n",
              "      spin 1s steps(1) infinite;\n",
              "  }\n",
              "\n",
              "  @keyframes spin {\n",
              "    0% {\n",
              "      border-color: transparent;\n",
              "      border-bottom-color: var(--fill-color);\n",
              "      border-left-color: var(--fill-color);\n",
              "    }\n",
              "    20% {\n",
              "      border-color: transparent;\n",
              "      border-left-color: var(--fill-color);\n",
              "      border-top-color: var(--fill-color);\n",
              "    }\n",
              "    30% {\n",
              "      border-color: transparent;\n",
              "      border-left-color: var(--fill-color);\n",
              "      border-top-color: var(--fill-color);\n",
              "      border-right-color: var(--fill-color);\n",
              "    }\n",
              "    40% {\n",
              "      border-color: transparent;\n",
              "      border-right-color: var(--fill-color);\n",
              "      border-top-color: var(--fill-color);\n",
              "    }\n",
              "    60% {\n",
              "      border-color: transparent;\n",
              "      border-right-color: var(--fill-color);\n",
              "    }\n",
              "    80% {\n",
              "      border-color: transparent;\n",
              "      border-right-color: var(--fill-color);\n",
              "      border-bottom-color: var(--fill-color);\n",
              "    }\n",
              "    90% {\n",
              "      border-color: transparent;\n",
              "      border-bottom-color: var(--fill-color);\n",
              "    }\n",
              "  }\n",
              "</style>\n",
              "\n",
              "  <script>\n",
              "    async function quickchart(key) {\n",
              "      const quickchartButtonEl =\n",
              "        document.querySelector('#' + key + ' button');\n",
              "      quickchartButtonEl.disabled = true;  // To prevent multiple clicks.\n",
              "      quickchartButtonEl.classList.add('colab-df-spinner');\n",
              "      try {\n",
              "        const charts = await google.colab.kernel.invokeFunction(\n",
              "            'suggestCharts', [key], {});\n",
              "      } catch (error) {\n",
              "        console.error('Error during call to suggestCharts:', error);\n",
              "      }\n",
              "      quickchartButtonEl.classList.remove('colab-df-spinner');\n",
              "      quickchartButtonEl.classList.add('colab-df-quickchart-complete');\n",
              "    }\n",
              "    (() => {\n",
              "      let quickchartButtonEl =\n",
              "        document.querySelector('#df-ec44e3b2-e8cb-4e28-8ad8-757d19a56c11 button');\n",
              "      quickchartButtonEl.style.display =\n",
              "        google.colab.kernel.accessAllowed ? 'block' : 'none';\n",
              "    })();\n",
              "  </script>\n",
              "</div>\n",
              "\n",
              "    </div>\n",
              "  </div>\n"
            ],
            "application/vnd.google.colaboratory.intrinsic+json": {
              "type": "dataframe",
              "variable_name": "base_dados",
              "summary": "{\n  \"name\": \"base_dados\",\n  \"rows\": 108,\n  \"fields\": [\n    {\n      \"column\": \"dt_inicio\",\n      \"properties\": {\n        \"dtype\": \"date\",\n        \"min\": \"2024-02-01 00:00:00\",\n        \"max\": \"2024-12-18 00:00:00\",\n        \"num_unique_values\": 70,\n        \"samples\": [\n          \"2024-07-26 00:00:00\",\n          \"2024-04-17 00:00:00\",\n          \"2024-09-25 00:00:00\"\n        ],\n        \"semantic_type\": \"\",\n        \"description\": \"\"\n      }\n    },\n    {\n      \"column\": \"dt_fechamento\",\n      \"properties\": {\n        \"dtype\": \"date\",\n        \"min\": \"2024-06-10 00:00:00\",\n        \"max\": \"2025-05-08 00:00:00\",\n        \"num_unique_values\": 72,\n        \"samples\": [\n          \"2024-06-13 00:00:00\",\n          \"2024-12-05 00:00:00\",\n          \"2024-07-17 00:00:00\"\n        ],\n        \"semantic_type\": \"\",\n        \"description\": \"\"\n      }\n    },\n    {\n      \"column\": \"plano\",\n      \"properties\": {\n        \"dtype\": \"category\",\n        \"num_unique_values\": 5,\n        \"samples\": [\n          \"PlanoI\",\n          \"PlanoIII\",\n          \"PlanoII\"\n        ],\n        \"semantic_type\": \"\",\n        \"description\": \"\"\n      }\n    },\n    {\n      \"column\": \"qtd_emissores_contrato\",\n      \"properties\": {\n        \"dtype\": \"number\",\n        \"std\": 0,\n        \"min\": 0,\n        \"max\": 5,\n        \"num_unique_values\": 6,\n        \"samples\": [\n          2,\n          1,\n          0\n        ],\n        \"semantic_type\": \"\",\n        \"description\": \"\"\n      }\n    },\n    {\n      \"column\": \"mrr_venda\",\n      \"properties\": {\n        \"dtype\": \"number\",\n        \"std\": 2079.330499167063,\n        \"min\": 150.0,\n        \"max\": 12000.0,\n        \"num_unique_values\": 69,\n        \"samples\": [\n          4350.0,\n          3120.0,\n          905.0\n        ],\n        \"semantic_type\": \"\",\n        \"description\": \"\"\n      }\n    },\n    {\n      \"column\": \"periodo_desconto(meses)\",\n      \"properties\": {\n        \"dtype\": \"number\",\n        \"std\": 5,\n        \"min\": 0,\n        \"max\": 12,\n        \"num_unique_values\": 6,\n        \"samples\": [\n          0,\n          6,\n          12\n        ],\n        \"semantic_type\": \"\",\n        \"description\": \"\"\n      }\n    },\n    {\n      \"column\": \"desconto(%)\",\n      \"properties\": {\n        \"dtype\": \"number\",\n        \"std\": 20,\n        \"min\": 0,\n        \"max\": 75,\n        \"num_unique_values\": 16,\n        \"samples\": [\n          0,\n          44,\n          10\n        ],\n        \"semantic_type\": \"\",\n        \"description\": \"\"\n      }\n    },\n    {\n      \"column\": \"implantacao_contrato\",\n      \"properties\": {\n        \"dtype\": \"category\",\n        \"num_unique_values\": 6,\n        \"samples\": [\n          \"N\\u00edvel1\",\n          \"ConfiguracoesIniciais\",\n          \"MainoXpertN\\u00edvel2\"\n        ],\n        \"semantic_type\": \"\",\n        \"description\": \"\"\n      }\n    },\n    {\n      \"column\": \"implantacao_desconto(%)\",\n      \"properties\": {\n        \"dtype\": \"number\",\n        \"std\": 17,\n        \"min\": 0,\n        \"max\": 100,\n        \"num_unique_values\": 8,\n        \"samples\": [\n          15,\n          100,\n          20\n        ],\n        \"semantic_type\": \"\",\n        \"description\": \"\"\n      }\n    },\n    {\n      \"column\": \"implantacao_valor_com_desconto\",\n      \"properties\": {\n        \"dtype\": \"number\",\n        \"std\": 2267.998075904041,\n        \"min\": 0.0,\n        \"max\": 15000.0,\n        \"num_unique_values\": 39,\n        \"samples\": [\n          2000.0,\n          6125.0,\n          200.0\n        ],\n        \"semantic_type\": \"\",\n        \"description\": \"\"\n      }\n    },\n    {\n      \"column\": \"implantacao_parcelas\",\n      \"properties\": {\n        \"dtype\": \"number\",\n        \"std\": 3,\n        \"min\": 0,\n        \"max\": 30,\n        \"num_unique_values\": 10,\n        \"samples\": [\n          0,\n          3,\n          2\n        ],\n        \"semantic_type\": \"\",\n        \"description\": \"\"\n      }\n    },\n    {\n      \"column\": \"dia_pagamento_parcelas_mrr\",\n      \"properties\": {\n        \"dtype\": \"number\",\n        \"std\": 7,\n        \"min\": 5,\n        \"max\": 25,\n        \"num_unique_values\": 5,\n        \"samples\": [\n          20,\n          25,\n          5\n        ],\n        \"semantic_type\": \"\",\n        \"description\": \"\"\n      }\n    },\n    {\n      \"column\": \"sdr\",\n      \"properties\": {\n        \"dtype\": \"category\",\n        \"num_unique_values\": 3,\n        \"samples\": [\n          \"AmandaOliveira\",\n          \"PriscilaFormaggini\",\n          \"L\\u00edviaAzevedo\"\n        ],\n        \"semantic_type\": \"\",\n        \"description\": \"\"\n      }\n    },\n    {\n      \"column\": \"consultor\",\n      \"properties\": {\n        \"dtype\": \"category\",\n        \"num_unique_values\": 2,\n        \"samples\": [\n          \"EduardoFerreira\",\n          \"Thayn\\u00e1Theodoro\"\n        ],\n        \"semantic_type\": \"\",\n        \"description\": \"\"\n      }\n    }\n  ]\n}"
            }
          },
          "metadata": {},
          "execution_count": 3
        }
      ]
    },
    {
      "cell_type": "code",
      "source": [
        "# dimensão (linhas e colunas)\n",
        "base_dados.shape"
      ],
      "metadata": {
        "colab": {
          "base_uri": "https://localhost:8080/"
        },
        "id": "e7nUXSR2BmZh",
        "outputId": "3ce9bf35-e832-4190-9e01-d1fa65fff4ae"
      },
      "execution_count": null,
      "outputs": [
        {
          "output_type": "execute_result",
          "data": {
            "text/plain": [
              "(119, 16)"
            ]
          },
          "metadata": {},
          "execution_count": 108
        }
      ]
    },
    {
      "cell_type": "code",
      "source": [
        "#info sobre as colunas\n",
        "base_dados.info()"
      ],
      "metadata": {
        "colab": {
          "base_uri": "https://localhost:8080/"
        },
        "id": "rEENngBvBvNB",
        "outputId": "e032614e-0d6d-4a8b-8d0a-92c9d170bd45"
      },
      "execution_count": null,
      "outputs": [
        {
          "output_type": "stream",
          "name": "stdout",
          "text": [
            "<class 'pandas.core.frame.DataFrame'>\n",
            "RangeIndex: 119 entries, 0 to 118\n",
            "Data columns (total 16 columns):\n",
            " #   Column                          Non-Null Count  Dtype \n",
            "---  ------                          --------------  ----- \n",
            " 0   dt_inicio                       116 non-null    object\n",
            " 1   dt_fechamento                   110 non-null    object\n",
            " 2   razao_social                    109 non-null    object\n",
            " 3   cnpj                            109 non-null    object\n",
            " 4   plano                           109 non-null    object\n",
            " 5   qtd_emissores_contrato          109 non-null    object\n",
            " 6   mrr_venda                       109 non-null    object\n",
            " 7   periodo_desconto(meses)         77 non-null     object\n",
            " 8   desconto(%)                     77 non-null     object\n",
            " 9   implantacao_contrato            109 non-null    object\n",
            " 10  implantacao_desconto(%)         62 non-null     object\n",
            " 11  implantacao_valor_com_desconto  109 non-null    object\n",
            " 12  implantacao_parcelas            109 non-null    object\n",
            " 13  dia_pagamento_parcelas_mrr      109 non-null    object\n",
            " 14  sdr                             109 non-null    object\n",
            " 15  consultor                       109 non-null    object\n",
            "dtypes: object(16)\n",
            "memory usage: 15.0+ KB\n"
          ]
        }
      ]
    },
    {
      "cell_type": "code",
      "source": [
        "# nome das colunas\n",
        "base_dados.columns"
      ],
      "metadata": {
        "colab": {
          "base_uri": "https://localhost:8080/"
        },
        "id": "53rHacI4B6u0",
        "outputId": "86fb07a6-85ab-42bc-cc44-956bb34c54de"
      },
      "execution_count": null,
      "outputs": [
        {
          "output_type": "execute_result",
          "data": {
            "text/plain": [
              "Index(['dt_inicio', 'dt_fechamento', 'razao_social', 'cnpj', 'plano',\n",
              "       'qtd_emissores_contrato', 'mrr_venda', 'periodo_desconto(meses)',\n",
              "       'desconto(%)', 'implantacao_contrato', 'implantacao_desconto(%)',\n",
              "       'implantacao_valor_com_desconto', 'implantacao_parcelas',\n",
              "       'dia_pagamento_parcelas_mrr', 'sdr', 'consultor'],\n",
              "      dtype='object')"
            ]
          },
          "metadata": {},
          "execution_count": 8
        }
      ]
    },
    {
      "cell_type": "markdown",
      "source": [
        "**Passo 2: preparando os dados**"
      ],
      "metadata": {
        "id": "tEpSoJToCchC"
      }
    },
    {
      "cell_type": "code",
      "source": [
        "# dados duplicados\n",
        "base_dados.duplicated().sum()"
      ],
      "metadata": {
        "colab": {
          "base_uri": "https://localhost:8080/"
        },
        "id": "85gwVrCoGze7",
        "outputId": "0a8facc8-25f9-4d5e-c042-15afcbe059df"
      },
      "execution_count": null,
      "outputs": [
        {
          "output_type": "execute_result",
          "data": {
            "text/plain": [
              "3"
            ]
          },
          "metadata": {},
          "execution_count": 3
        }
      ]
    },
    {
      "cell_type": "code",
      "source": [
        "# apagando dados duplicados\n",
        "base_dados = base_dados.drop_duplicates()"
      ],
      "metadata": {
        "id": "hkIAusUiG9LE"
      },
      "execution_count": null,
      "outputs": []
    },
    {
      "cell_type": "code",
      "source": [
        "# verificando exclusão de duplicatas\n",
        "base_dados.duplicated().sum()"
      ],
      "metadata": {
        "colab": {
          "base_uri": "https://localhost:8080/"
        },
        "id": "D9_Ur2R0HMji",
        "outputId": "8b661782-b63f-4333-c42e-720ba9471c65"
      },
      "execution_count": null,
      "outputs": [
        {
          "output_type": "execute_result",
          "data": {
            "text/plain": [
              "0"
            ]
          },
          "metadata": {},
          "execution_count": 111
        }
      ]
    },
    {
      "cell_type": "code",
      "source": [
        "# total de valores nulos de cada coluna\n",
        "base_dados.isna().sum()"
      ],
      "metadata": {
        "colab": {
          "base_uri": "https://localhost:8080/",
          "height": 585
        },
        "id": "PWEXkkZVHsOR",
        "outputId": "07c60a31-dce7-42c3-c8ab-569a80200c87"
      },
      "execution_count": null,
      "outputs": [
        {
          "output_type": "execute_result",
          "data": {
            "text/plain": [
              "dt_inicio                          1\n",
              "dt_fechamento                      6\n",
              "razao_social                       7\n",
              "cnpj                               7\n",
              "plano                              7\n",
              "qtd_emissores_contrato             7\n",
              "mrr_venda                          7\n",
              "periodo_desconto(meses)           39\n",
              "desconto(%)                       39\n",
              "implantacao_contrato               7\n",
              "implantacao_desconto(%)           54\n",
              "implantacao_valor_com_desconto     7\n",
              "implantacao_parcelas               7\n",
              "dia_pagamento_parcelas_mrr         7\n",
              "sdr                                7\n",
              "consultor                          7\n",
              "dtype: int64"
            ],
            "text/html": [
              "<div>\n",
              "<style scoped>\n",
              "    .dataframe tbody tr th:only-of-type {\n",
              "        vertical-align: middle;\n",
              "    }\n",
              "\n",
              "    .dataframe tbody tr th {\n",
              "        vertical-align: top;\n",
              "    }\n",
              "\n",
              "    .dataframe thead th {\n",
              "        text-align: right;\n",
              "    }\n",
              "</style>\n",
              "<table border=\"1\" class=\"dataframe\">\n",
              "  <thead>\n",
              "    <tr style=\"text-align: right;\">\n",
              "      <th></th>\n",
              "      <th>0</th>\n",
              "    </tr>\n",
              "  </thead>\n",
              "  <tbody>\n",
              "    <tr>\n",
              "      <th>dt_inicio</th>\n",
              "      <td>1</td>\n",
              "    </tr>\n",
              "    <tr>\n",
              "      <th>dt_fechamento</th>\n",
              "      <td>6</td>\n",
              "    </tr>\n",
              "    <tr>\n",
              "      <th>razao_social</th>\n",
              "      <td>7</td>\n",
              "    </tr>\n",
              "    <tr>\n",
              "      <th>cnpj</th>\n",
              "      <td>7</td>\n",
              "    </tr>\n",
              "    <tr>\n",
              "      <th>plano</th>\n",
              "      <td>7</td>\n",
              "    </tr>\n",
              "    <tr>\n",
              "      <th>qtd_emissores_contrato</th>\n",
              "      <td>7</td>\n",
              "    </tr>\n",
              "    <tr>\n",
              "      <th>mrr_venda</th>\n",
              "      <td>7</td>\n",
              "    </tr>\n",
              "    <tr>\n",
              "      <th>periodo_desconto(meses)</th>\n",
              "      <td>39</td>\n",
              "    </tr>\n",
              "    <tr>\n",
              "      <th>desconto(%)</th>\n",
              "      <td>39</td>\n",
              "    </tr>\n",
              "    <tr>\n",
              "      <th>implantacao_contrato</th>\n",
              "      <td>7</td>\n",
              "    </tr>\n",
              "    <tr>\n",
              "      <th>implantacao_desconto(%)</th>\n",
              "      <td>54</td>\n",
              "    </tr>\n",
              "    <tr>\n",
              "      <th>implantacao_valor_com_desconto</th>\n",
              "      <td>7</td>\n",
              "    </tr>\n",
              "    <tr>\n",
              "      <th>implantacao_parcelas</th>\n",
              "      <td>7</td>\n",
              "    </tr>\n",
              "    <tr>\n",
              "      <th>dia_pagamento_parcelas_mrr</th>\n",
              "      <td>7</td>\n",
              "    </tr>\n",
              "    <tr>\n",
              "      <th>sdr</th>\n",
              "      <td>7</td>\n",
              "    </tr>\n",
              "    <tr>\n",
              "      <th>consultor</th>\n",
              "      <td>7</td>\n",
              "    </tr>\n",
              "  </tbody>\n",
              "</table>\n",
              "</div><br><label><b>dtype:</b> int64</label>"
            ]
          },
          "metadata": {},
          "execution_count": 20
        }
      ]
    },
    {
      "cell_type": "code",
      "source": [
        "# removendo linhas com todas as colunas vazias\n",
        "base_dados = base_dados.dropna(how = 'all')"
      ],
      "metadata": {
        "id": "EB5q1nhJIS7K"
      },
      "execution_count": null,
      "outputs": []
    },
    {
      "cell_type": "code",
      "source": [
        "# conservando somente as linhas com mais de 2 colunas preenchidas\n",
        "base_dados = base_dados[base_dados.notna().sum(axis = 1) > 2]"
      ],
      "metadata": {
        "id": "-mkUa95fKwzA"
      },
      "execution_count": null,
      "outputs": []
    },
    {
      "cell_type": "code",
      "source": [
        "# filtrando as linhas onde 'razao_social' e 'consultor' são diferentes de '$'\n",
        "base_dados = base_dados.loc[(base_dados['razao_social'] != '$') & (base_dados['consultor'] != '$')]"
      ],
      "metadata": {
        "id": "BtpAynU9LPnJ"
      },
      "execution_count": null,
      "outputs": []
    },
    {
      "cell_type": "code",
      "source": [
        "# df depois de retiradas as linhas duplicadas, nulas ou com erros\n",
        "base_dados.info()"
      ],
      "metadata": {
        "colab": {
          "base_uri": "https://localhost:8080/"
        },
        "id": "v-FUA8_NPvIF",
        "outputId": "62a30eef-a595-49bb-df0d-992bbc370af3"
      },
      "execution_count": null,
      "outputs": [
        {
          "output_type": "stream",
          "name": "stdout",
          "text": [
            "<class 'pandas.core.frame.DataFrame'>\n",
            "Index: 108 entries, 0 to 118\n",
            "Data columns (total 16 columns):\n",
            " #   Column                          Non-Null Count  Dtype \n",
            "---  ------                          --------------  ----- \n",
            " 0   dt_inicio                       108 non-null    object\n",
            " 1   dt_fechamento                   108 non-null    object\n",
            " 2   razao_social                    108 non-null    object\n",
            " 3   cnpj                            108 non-null    object\n",
            " 4   plano                           108 non-null    object\n",
            " 5   qtd_emissores_contrato          108 non-null    object\n",
            " 6   mrr_venda                       108 non-null    object\n",
            " 7   periodo_desconto(meses)         76 non-null     object\n",
            " 8   desconto(%)                     76 non-null     object\n",
            " 9   implantacao_contrato            108 non-null    object\n",
            " 10  implantacao_desconto(%)         61 non-null     object\n",
            " 11  implantacao_valor_com_desconto  108 non-null    object\n",
            " 12  implantacao_parcelas            108 non-null    object\n",
            " 13  dia_pagamento_parcelas_mrr      108 non-null    object\n",
            " 14  sdr                             108 non-null    object\n",
            " 15  consultor                       108 non-null    object\n",
            "dtypes: object(16)\n",
            "memory usage: 14.3+ KB\n"
          ]
        }
      ]
    },
    {
      "cell_type": "code",
      "source": [
        "# convertendo o tipo de dado de object para string\n",
        "\n",
        "# lista de colunas a serem convertidas\n",
        "colunas_string = ['sdr', 'consultor','implantacao_contrato','razao_social', 'cnpj', 'plano']\n",
        "\n",
        "# conversão\n",
        "base_dados[colunas_string] = base_dados[colunas_string].astype('string')"
      ],
      "metadata": {
        "id": "5ZOWTWuLCAsa"
      },
      "execution_count": null,
      "outputs": []
    },
    {
      "cell_type": "markdown",
      "source": [
        "Agora, com o dataframe limpo, preencherei com zero as colunas que ainda permanecem vazias.\n",
        "\n",
        "Serão elas: periodo_desconto(meses), desconto(%), implantacao_desconto(%).\n",
        "\n",
        "Isso porque, para covertê-las para o tipo inteiro (int64), não pode haver a presença de dados nulos (NaN)."
      ],
      "metadata": {
        "id": "9QbHtOFWQt6B"
      }
    },
    {
      "cell_type": "code",
      "source": [
        "# substituindo valores nulos por zero\n",
        "\n",
        "# colunas relevantes\n",
        "colunas_preenchidas = ['periodo_desconto(meses)', 'desconto(%)', 'implantacao_desconto(%)']\n",
        "\n",
        "# substituindo\n",
        "base_dados[colunas_preenchidas] = base_dados[colunas_preenchidas].fillna(0)"
      ],
      "metadata": {
        "colab": {
          "base_uri": "https://localhost:8080/"
        },
        "id": "oXG25sh6TRIm",
        "outputId": "b64b0786-34fa-40d3-f77f-19b5ff99c674"
      },
      "execution_count": null,
      "outputs": [
        {
          "output_type": "stream",
          "name": "stderr",
          "text": [
            "<ipython-input-9-2ba22ed43689>:7: FutureWarning: Downcasting object dtype arrays on .fillna, .ffill, .bfill is deprecated and will change in a future version. Call result.infer_objects(copy=False) instead. To opt-in to the future behavior, set `pd.set_option('future.no_silent_downcasting', True)`\n",
            "  base_dados[colunas_preenchidas] = base_dados[colunas_preenchidas].fillna(0)\n"
          ]
        }
      ]
    },
    {
      "cell_type": "code",
      "source": [
        "# convertendo o tipo de dado de object para int\n",
        "\n",
        "# lista de colunas a serem convertidas\n",
        "colunas_int = ['qtd_emissores_contrato','periodo_desconto(meses)','desconto(%)','implantacao_desconto(%)','implantacao_parcelas','dia_pagamento_parcelas_mrr']\n",
        "\n",
        "# substituindo valores nulos com zero e depois a conversão para int\n",
        "base_dados[colunas_int] = base_dados[colunas_int].astype('int64')"
      ],
      "metadata": {
        "id": "uSlgxHsaDw8x"
      },
      "execution_count": null,
      "outputs": []
    },
    {
      "cell_type": "code",
      "source": [
        "# convertendo o tipo de dado de object para float\n",
        "base_dados[['mrr_venda', 'implantacao_valor_com_desconto']] = base_dados[['mrr_venda', 'implantacao_valor_com_desconto']].astype('float64')"
      ],
      "metadata": {
        "id": "1_V7H7kBTeQK"
      },
      "execution_count": null,
      "outputs": []
    },
    {
      "cell_type": "code",
      "source": [
        "# convertendo o tipo de dado da 'dt_inicio' para datetime (data),  o formato vai para ano-mes-dia\n",
        "base_dados['dt_inicio'] = pd.to_datetime(base_dados['dt_inicio'], format ='mixed', dayfirst = False)"
      ],
      "metadata": {
        "id": "90PpQLw1U0LU"
      },
      "execution_count": null,
      "outputs": []
    },
    {
      "cell_type": "markdown",
      "source": [
        "Ao tentar executar o código acima, darão 2 erros:\n",
        "1. Erro na posição 77\n",
        "2. Erro na posição 80\n",
        "\n",
        "Foram corrigidos e depois, o código foi executado novamente e a conversão realizada."
      ],
      "metadata": {
        "id": "x8PLMH6FdzCR"
      }
    },
    {
      "cell_type": "code",
      "source": [
        "# ERRO: a posição 77 tem um dia fora do range do mês (Não tem setembro com 31 dias)\n",
        "print(base_dados.iloc[77])"
      ],
      "metadata": {
        "colab": {
          "base_uri": "https://localhost:8080/"
        },
        "id": "XFer7HH7W1xD",
        "outputId": "cca17488-019e-4814-d71e-373223726af3"
      },
      "execution_count": null,
      "outputs": [
        {
          "output_type": "stream",
          "name": "stdout",
          "text": [
            "dt_inicio                                      9/31/2024\n",
            "dt_fechamento                                 10/28/2024\n",
            "razao_social                      QuantumStreamSolutions\n",
            "cnpj                                      18815201856968\n",
            "plano                                            PlanoII\n",
            "qtd_emissores_contrato                                 1\n",
            "mrr_venda                                         1055.0\n",
            "periodo_desconto(meses)                                0\n",
            "desconto(%)                                            0\n",
            "implantacao_contrato               ConfiguracoesIniciais\n",
            "implantacao_desconto(%)                                0\n",
            "implantacao_valor_com_desconto                    1000.0\n",
            "implantacao_parcelas                                   1\n",
            "dia_pagamento_parcelas_mrr                             5\n",
            "sdr                                       AmandaOliveira\n",
            "consultor                                EduardoFerreira\n",
            "Name: 88, dtype: object\n"
          ]
        }
      ]
    },
    {
      "cell_type": "markdown",
      "source": [
        "Pelas muitas manipulações anteriores, o index estava desalinhado e, por isso, usei o reset_index. Para redefinir o índice do dataframe.  "
      ],
      "metadata": {
        "id": "pFyWeV01bJfZ"
      }
    },
    {
      "cell_type": "code",
      "source": [
        "# reconstruindo o index novamente\n",
        "base_dados.reset_index(drop = True, inplace = True)"
      ],
      "metadata": {
        "id": "7j2ZtrBJavpD"
      },
      "execution_count": null,
      "outputs": []
    },
    {
      "cell_type": "code",
      "source": [
        "# corrigindo manualmente da data da posição 77 da coluna 'dt_inicio'\n",
        "base_dados.loc[77, 'dt_inicio'] = '09/30/2024'"
      ],
      "metadata": {
        "id": "M8TTnwdFYVpP"
      },
      "execution_count": null,
      "outputs": []
    },
    {
      "cell_type": "code",
      "source": [
        "# verificação da substituição\n",
        "print(base_dados.iloc[77])"
      ],
      "metadata": {
        "colab": {
          "base_uri": "https://localhost:8080/"
        },
        "id": "LmtUPYtXZJpU",
        "outputId": "1684fd81-2216-4159-91ad-5630aeea6e95"
      },
      "execution_count": null,
      "outputs": [
        {
          "output_type": "stream",
          "name": "stdout",
          "text": [
            "dt_inicio                                     09/30/2024\n",
            "dt_fechamento                                 10/28/2024\n",
            "razao_social                      QuantumStreamSolutions\n",
            "cnpj                                      18815201856968\n",
            "plano                                            PlanoII\n",
            "qtd_emissores_contrato                                 1\n",
            "mrr_venda                                         1055.0\n",
            "periodo_desconto(meses)                                0\n",
            "desconto(%)                                            0\n",
            "implantacao_contrato               ConfiguracoesIniciais\n",
            "implantacao_desconto(%)                                0\n",
            "implantacao_valor_com_desconto                    1000.0\n",
            "implantacao_parcelas                                   1\n",
            "dia_pagamento_parcelas_mrr                             5\n",
            "sdr                                       AmandaOliveira\n",
            "consultor                                EduardoFerreira\n",
            "Name: 77, dtype: object\n"
          ]
        }
      ]
    },
    {
      "cell_type": "code",
      "source": [
        "# ERRO: data malformada no formato (m/d/a) na posição 80\n",
        "print(base_dados.iloc[80])"
      ],
      "metadata": {
        "colab": {
          "base_uri": "https://localhost:8080/"
        },
        "id": "ajRpFyIza5Kv",
        "outputId": "cfd0cad5-c4b2-4b98-dac4-74965bae75c6"
      },
      "execution_count": null,
      "outputs": [
        {
          "output_type": "stream",
          "name": "stdout",
          "text": [
            "dt_inicio                                     10/4/2024\n",
            "dt_fechamento                                 11/1/2024\n",
            "razao_social                            RadiantLinkLtda\n",
            "cnpj                                     16247205043313\n",
            "plano                                     PlanoServicos\n",
            "qtd_emissores_contrato                                1\n",
            "mrr_venda                                         230.0\n",
            "periodo_desconto(meses)                               0\n",
            "desconto(%)                                           0\n",
            "implantacao_contrato              ConfiguracoesIniciais\n",
            "implantacao_desconto(%)                               0\n",
            "implantacao_valor_com_desconto                    450.0\n",
            "implantacao_parcelas                                  6\n",
            "dia_pagamento_parcelas_mrr                            5\n",
            "sdr                                      AmandaOliveira\n",
            "consultor                                ThaynáTheodoro\n",
            "Name: 80, dtype: object\n"
          ]
        }
      ]
    },
    {
      "cell_type": "code",
      "source": [
        "# corrigindo manualmente da data da posição 80 da coluna 'dt_inicio'\n",
        "base_dados.loc[80, 'dt_inicio'] = '10/4/2024'"
      ],
      "metadata": {
        "id": "PC5_4_ldcaqv"
      },
      "execution_count": null,
      "outputs": []
    },
    {
      "cell_type": "code",
      "source": [
        "base_dados.iloc[80]"
      ],
      "metadata": {
        "colab": {
          "base_uri": "https://localhost:8080/",
          "height": 585
        },
        "id": "TSEQawIEcmId",
        "outputId": "c212b552-d9df-482f-f6d3-bbe6d9007d9a"
      },
      "execution_count": null,
      "outputs": [
        {
          "output_type": "execute_result",
          "data": {
            "text/plain": [
              "dt_inicio                                     10/4/2024\n",
              "dt_fechamento                                 11/1/2024\n",
              "razao_social                            RadiantLinkLtda\n",
              "cnpj                                     16247205043313\n",
              "plano                                     PlanoServicos\n",
              "qtd_emissores_contrato                                1\n",
              "mrr_venda                                         230.0\n",
              "periodo_desconto(meses)                               0\n",
              "desconto(%)                                           0\n",
              "implantacao_contrato              ConfiguracoesIniciais\n",
              "implantacao_desconto(%)                               0\n",
              "implantacao_valor_com_desconto                    450.0\n",
              "implantacao_parcelas                                  6\n",
              "dia_pagamento_parcelas_mrr                            5\n",
              "sdr                                      AmandaOliveira\n",
              "consultor                                ThaynáTheodoro\n",
              "Name: 80, dtype: object"
            ],
            "text/html": [
              "<div>\n",
              "<style scoped>\n",
              "    .dataframe tbody tr th:only-of-type {\n",
              "        vertical-align: middle;\n",
              "    }\n",
              "\n",
              "    .dataframe tbody tr th {\n",
              "        vertical-align: top;\n",
              "    }\n",
              "\n",
              "    .dataframe thead th {\n",
              "        text-align: right;\n",
              "    }\n",
              "</style>\n",
              "<table border=\"1\" class=\"dataframe\">\n",
              "  <thead>\n",
              "    <tr style=\"text-align: right;\">\n",
              "      <th></th>\n",
              "      <th>80</th>\n",
              "    </tr>\n",
              "  </thead>\n",
              "  <tbody>\n",
              "    <tr>\n",
              "      <th>dt_inicio</th>\n",
              "      <td>10/4/2024</td>\n",
              "    </tr>\n",
              "    <tr>\n",
              "      <th>dt_fechamento</th>\n",
              "      <td>11/1/2024</td>\n",
              "    </tr>\n",
              "    <tr>\n",
              "      <th>razao_social</th>\n",
              "      <td>RadiantLinkLtda</td>\n",
              "    </tr>\n",
              "    <tr>\n",
              "      <th>cnpj</th>\n",
              "      <td>16247205043313</td>\n",
              "    </tr>\n",
              "    <tr>\n",
              "      <th>plano</th>\n",
              "      <td>PlanoServicos</td>\n",
              "    </tr>\n",
              "    <tr>\n",
              "      <th>qtd_emissores_contrato</th>\n",
              "      <td>1</td>\n",
              "    </tr>\n",
              "    <tr>\n",
              "      <th>mrr_venda</th>\n",
              "      <td>230.0</td>\n",
              "    </tr>\n",
              "    <tr>\n",
              "      <th>periodo_desconto(meses)</th>\n",
              "      <td>0</td>\n",
              "    </tr>\n",
              "    <tr>\n",
              "      <th>desconto(%)</th>\n",
              "      <td>0</td>\n",
              "    </tr>\n",
              "    <tr>\n",
              "      <th>implantacao_contrato</th>\n",
              "      <td>ConfiguracoesIniciais</td>\n",
              "    </tr>\n",
              "    <tr>\n",
              "      <th>implantacao_desconto(%)</th>\n",
              "      <td>0</td>\n",
              "    </tr>\n",
              "    <tr>\n",
              "      <th>implantacao_valor_com_desconto</th>\n",
              "      <td>450.0</td>\n",
              "    </tr>\n",
              "    <tr>\n",
              "      <th>implantacao_parcelas</th>\n",
              "      <td>6</td>\n",
              "    </tr>\n",
              "    <tr>\n",
              "      <th>dia_pagamento_parcelas_mrr</th>\n",
              "      <td>5</td>\n",
              "    </tr>\n",
              "    <tr>\n",
              "      <th>sdr</th>\n",
              "      <td>AmandaOliveira</td>\n",
              "    </tr>\n",
              "    <tr>\n",
              "      <th>consultor</th>\n",
              "      <td>ThaynáTheodoro</td>\n",
              "    </tr>\n",
              "  </tbody>\n",
              "</table>\n",
              "</div><br><label><b>dtype:</b> object</label>"
            ]
          },
          "metadata": {},
          "execution_count": 19
        }
      ]
    },
    {
      "cell_type": "code",
      "source": [
        "# convertendo o tipo de dado de object para datetime (data), o formato vai para ano-mes-dia\n",
        "base_dados['dt_fechamento'] = pd.to_datetime(base_dados['dt_fechamento'], format ='mixed', dayfirst = False)"
      ],
      "metadata": {
        "id": "73DpiflNexFb"
      },
      "execution_count": null,
      "outputs": []
    },
    {
      "cell_type": "code",
      "source": [
        "# convertendo formato das datas de %m/%d/%Y para %d/%m/%Y,  não usarei esse código\n",
        "# pq o formato volta para string e assim, não conseguirei realizar cálculos com as datas\n",
        "\n",
        "# base_dados['dt_inicio'] = base_dados['dt_inicio'].dt.strftime('%d/%m/%Y')\n",
        "# base_dados['dt_fechamento'] = base_dados['dt_fechamento'].dt.strftime('%d/%m/%Y')"
      ],
      "metadata": {
        "id": "TgB0_0Oa_iU4"
      },
      "execution_count": null,
      "outputs": []
    },
    {
      "cell_type": "code",
      "source": [
        "# confirmando a conversão de todas as colunas\n",
        "base_dados.info()"
      ],
      "metadata": {
        "colab": {
          "base_uri": "https://localhost:8080/"
        },
        "id": "3p4wt6-yTWF-",
        "outputId": "77135601-326e-409b-8b1a-3274b6985e42"
      },
      "execution_count": null,
      "outputs": [
        {
          "output_type": "stream",
          "name": "stdout",
          "text": [
            "<class 'pandas.core.frame.DataFrame'>\n",
            "RangeIndex: 108 entries, 0 to 107\n",
            "Data columns (total 16 columns):\n",
            " #   Column                          Non-Null Count  Dtype         \n",
            "---  ------                          --------------  -----         \n",
            " 0   dt_inicio                       108 non-null    datetime64[ns]\n",
            " 1   dt_fechamento                   108 non-null    datetime64[ns]\n",
            " 2   razao_social                    108 non-null    string        \n",
            " 3   cnpj                            108 non-null    string        \n",
            " 4   plano                           108 non-null    string        \n",
            " 5   qtd_emissores_contrato          108 non-null    int64         \n",
            " 6   mrr_venda                       108 non-null    float64       \n",
            " 7   periodo_desconto(meses)         108 non-null    int64         \n",
            " 8   desconto(%)                     108 non-null    int64         \n",
            " 9   implantacao_contrato            108 non-null    string        \n",
            " 10  implantacao_desconto(%)         108 non-null    int64         \n",
            " 11  implantacao_valor_com_desconto  108 non-null    float64       \n",
            " 12  implantacao_parcelas            108 non-null    int64         \n",
            " 13  dia_pagamento_parcelas_mrr      108 non-null    int64         \n",
            " 14  sdr                             108 non-null    string        \n",
            " 15  consultor                       108 non-null    string        \n",
            "dtypes: datetime64[ns](2), float64(2), int64(6), string(6)\n",
            "memory usage: 13.6 KB\n"
          ]
        }
      ]
    },
    {
      "cell_type": "markdown",
      "source": [
        "**Passo 3: Perguntas obrigatórias**"
      ],
      "metadata": {
        "id": "2RS_XJLqroy2"
      }
    },
    {
      "cell_type": "markdown",
      "source": [
        "**1. Quantidade de Vendas: Número total de vendas realizadas**"
      ],
      "metadata": {
        "id": "g4mrgo9_subd"
      }
    },
    {
      "cell_type": "code",
      "source": [
        "# contando a quantidade de linhas\n",
        "qtd_vendas_totais = len(base_dados)\n",
        "\n",
        "print(f'O número total de vendas foi:{qtd_vendas_totais}')"
      ],
      "metadata": {
        "colab": {
          "base_uri": "https://localhost:8080/"
        },
        "id": "-iGOvCouoP-X",
        "outputId": "2a59b3e3-4295-4c9f-ac4b-b4f6a806d6d7"
      },
      "execution_count": null,
      "outputs": [
        {
          "output_type": "stream",
          "name": "stdout",
          "text": [
            "O número total de vendas foi:108\n"
          ]
        }
      ]
    },
    {
      "cell_type": "markdown",
      "source": [
        "**2. Quantidade de Emissores: Número total de emissores das vendas.**"
      ],
      "metadata": {
        "id": "7sejJBO2tL2p"
      }
    },
    {
      "cell_type": "code",
      "source": [
        "# somando todos os valores da coluna 'qtd_emissores_contrato'\n",
        "qtd_emissores_total = base_dados['qtd_emissores_contrato'].sum()\n",
        "\n",
        "print(f'O número total de emissores foi: {qtd_emissores_total}')"
      ],
      "metadata": {
        "colab": {
          "base_uri": "https://localhost:8080/"
        },
        "id": "-1FtrwFAtJpP",
        "outputId": "7b835df1-bfa5-486b-b245-e02d89c3336d"
      },
      "execution_count": null,
      "outputs": [
        {
          "output_type": "stream",
          "name": "stdout",
          "text": [
            "O número total de emissores foi: 127\n"
          ]
        }
      ]
    },
    {
      "cell_type": "markdown",
      "source": [
        "**3. Soma do MRR sem Desconto: Total do MRR das vendas antes da\n",
        "aplicação de descontos.**\n"
      ],
      "metadata": {
        "id": "92R6Vz-MuS8O"
      }
    },
    {
      "cell_type": "code",
      "source": [
        "# somando todos os valores da coluna 'mrr_venda'\n",
        "soma_mrr_sem_desconto = base_dados['mrr_venda'].sum()\n",
        "\n",
        "print(f'A soma total do MRR sem desconto é:{soma_mrr_sem_desconto}')"
      ],
      "metadata": {
        "colab": {
          "base_uri": "https://localhost:8080/"
        },
        "id": "Izdxv1A7ucxA",
        "outputId": "1850b636-329e-41ca-aea8-071bd25ecdf1"
      },
      "execution_count": null,
      "outputs": [
        {
          "output_type": "stream",
          "name": "stdout",
          "text": [
            "A soma total do MRR sem desconto é:241533.0\n"
          ]
        }
      ]
    },
    {
      "cell_type": "markdown",
      "source": [
        "**4. Soma do MRR com Desconto: Total do MRR das vendas após a\n",
        "aplicação de descontos (lembre-se de considerar o período do\n",
        "desconto)**"
      ],
      "metadata": {
        "id": "UDk80MzewMV2"
      }
    },
    {
      "cell_type": "code",
      "source": [
        "# calcular MRR com desconto\n",
        "mrr_com_desconto = base_dados['mrr_venda'] * (1 - base_dados['desconto(%)'] / 100)"
      ],
      "metadata": {
        "id": "OPDPWhYAwR9T"
      },
      "execution_count": null,
      "outputs": []
    },
    {
      "cell_type": "code",
      "source": [
        "# calculando o MRR considerando o período do desconto\n",
        "\n",
        "# mrr com desconto * meses com desconto\n",
        "mrr_desc_mes_desc = mrr_com_desconto * base_dados['periodo_desconto(meses)']\n",
        "\n",
        "# mrr sem desconto * meses sem desconto\n",
        "mrr_sdesc_mes_sdesc = base_dados['mrr_venda'] * (12 - base_dados['periodo_desconto(meses)'])\n",
        "\n",
        "# calculando o mrr ponderado\n",
        "base_dados['mrr_desc_ponderado'] = (mrr_desc_mes_desc + mrr_sdesc_mes_sdesc) / 12"
      ],
      "metadata": {
        "id": "u7z1GVfuyymo"
      },
      "execution_count": null,
      "outputs": []
    },
    {
      "cell_type": "code",
      "source": [
        "# soma total do MRR com desconto considerando o periodo do desconto\n",
        "soma_mrr_desc = base_dados['mrr_desc_ponderado'].sum().round(2)\n",
        "\n",
        "print(f'A soma do MRR com desconto é: {soma_mrr_desc}')"
      ],
      "metadata": {
        "colab": {
          "base_uri": "https://localhost:8080/"
        },
        "id": "l9IGit-x2LsP",
        "outputId": "60b0ca1f-0339-4ded-ef6a-2b029452ae5d"
      },
      "execution_count": null,
      "outputs": [
        {
          "output_type": "stream",
          "name": "stdout",
          "text": [
            "A soma do MRR com desconto é: 192601.61\n"
          ]
        }
      ]
    },
    {
      "cell_type": "markdown",
      "source": [
        "**5. Ticket Médio do MRR sem Desconto: Média do MRR sem\n",
        "descontos.**\n"
      ],
      "metadata": {
        "id": "oh88LAmd3Xq9"
      }
    },
    {
      "cell_type": "code",
      "source": [
        "# calculando a média do mrr sem desconto (coluna 'mrr_venda')\n",
        "media_mrr_sdesc = base_dados['mrr_venda'].mean().round(2)\n",
        "\n",
        "print(f'O ticket médio do MRR sem desconto é:{media_mrr_sdesc}')"
      ],
      "metadata": {
        "colab": {
          "base_uri": "https://localhost:8080/"
        },
        "id": "6deTCb0yzf0z",
        "outputId": "bc8611b5-1cfe-45ab-d6ad-14adf8ed3213"
      },
      "execution_count": null,
      "outputs": [
        {
          "output_type": "stream",
          "name": "stdout",
          "text": [
            "O ticket médio do MRR sem desconto é:2236.42\n"
          ]
        }
      ]
    },
    {
      "cell_type": "markdown",
      "source": [
        "**6. Ticket Médio do MRR com Desconto: Média do MRR com\n",
        "descontos.**\n"
      ],
      "metadata": {
        "id": "uirQKlqA4Sl2"
      }
    },
    {
      "cell_type": "code",
      "source": [
        "# calculando a média do mrr com desconto (coluna 'mrr_desc_ponderado')\n",
        "media_mrr_desc = base_dados['mrr_desc_ponderado'].mean().round(2)\n",
        "\n",
        "print(f'O ticket médio do MRR com desconto é:{media_mrr_desc}')"
      ],
      "metadata": {
        "colab": {
          "base_uri": "https://localhost:8080/"
        },
        "id": "dTf2Yk-Y4UuR",
        "outputId": "d953aac2-909c-41c0-882a-5623d7f34d1d"
      },
      "execution_count": null,
      "outputs": [
        {
          "output_type": "stream",
          "name": "stdout",
          "text": [
            "O ticket médio do MRR com desconto é:1783.35\n"
          ]
        }
      ]
    },
    {
      "cell_type": "markdown",
      "source": [
        "**7. Soma da Receita de Implantação (com Desconto): Total\n",
        "arrecadado com os valores de implantação das vendas, considerando\n",
        "os descontos aplicados.**\n"
      ],
      "metadata": {
        "id": "4zxOGPDd6n5r"
      }
    },
    {
      "cell_type": "code",
      "source": [
        "# calculando a soma total da coluna 'implantacao_valor_com_desconto'\n",
        "soma_implantacao_valor_com_desconto = base_dados['implantacao_valor_com_desconto'].sum()\n",
        "\n",
        "print(f'A soma da receita de implantação com os descontos foi: {soma_implantacao_valor_com_desconto}')"
      ],
      "metadata": {
        "colab": {
          "base_uri": "https://localhost:8080/"
        },
        "id": "p6w_yVup6eks",
        "outputId": "0852cbab-558e-4a72-a390-9b5edef4ab41"
      },
      "execution_count": null,
      "outputs": [
        {
          "output_type": "stream",
          "name": "stdout",
          "text": [
            "A soma da receita de implantação com os descontos foi: 213600.5\n"
          ]
        }
      ]
    },
    {
      "cell_type": "markdown",
      "source": [
        "**8. Ticket Médio da Implantação: Média do valor de implantação (com\n",
        "descontos) por venda.**"
      ],
      "metadata": {
        "id": "SY4DugCl71z8"
      }
    },
    {
      "cell_type": "code",
      "source": [
        "# calculando a média da coluna 'implantacao_valor_com_desconto'\n",
        "media_implantacao_valor_com_desconto = base_dados['implantacao_valor_com_desconto'].mean().round(2)\n",
        "\n",
        "print(f'O ticket médio de implantação com o descontos é: {media_implantacao_valor_com_desconto}')"
      ],
      "metadata": {
        "colab": {
          "base_uri": "https://localhost:8080/"
        },
        "id": "K7NKX-fh6Uk-",
        "outputId": "2e50596c-9c3c-46a6-b1c9-25af0efe87e8"
      },
      "execution_count": null,
      "outputs": [
        {
          "output_type": "stream",
          "name": "stdout",
          "text": [
            "O ticket médio de implantação com o descontos é: 1977.78\n"
          ]
        }
      ]
    },
    {
      "cell_type": "markdown",
      "source": [
        "**9. ARR com Desconto: Receita recorrente anual considerando o\n",
        "desconto aplicado.**\n"
      ],
      "metadata": {
        "id": "738us5dD8tHO"
      }
    },
    {
      "cell_type": "code",
      "source": [
        "# calcular o arr com desconto = mrr(com desconto) * 12\n",
        "base_dados['arr_com_desconto'] = base_dados['mrr_desc_ponderado'] * 12"
      ],
      "metadata": {
        "id": "YqPXYnSy8sqj"
      },
      "execution_count": null,
      "outputs": []
    },
    {
      "cell_type": "code",
      "source": [
        "# soma total do arr com desconto\n",
        "soma_arr_desc = base_dados['arr_com_desconto'].sum().round(2)\n",
        "\n",
        "print(f'A soma da ARR foi com desconto: {soma_arr_desc}')"
      ],
      "metadata": {
        "colab": {
          "base_uri": "https://localhost:8080/"
        },
        "id": "kcA40p6k-gzm",
        "outputId": "e6802d42-ca21-48cb-b1c0-d05f9311c949"
      },
      "execution_count": null,
      "outputs": [
        {
          "output_type": "stream",
          "name": "stdout",
          "text": [
            "A soma da ARR foi com desconto: 2311219.35\n"
          ]
        }
      ]
    },
    {
      "cell_type": "markdown",
      "source": [
        "**10. ARR sem Desconto: Receita recorrente anual sem considerar os\n",
        "descontos.**\n"
      ],
      "metadata": {
        "id": "-LwJJVNK_ReR"
      }
    },
    {
      "cell_type": "code",
      "source": [
        "# calcular o arr sem desconto = mrr(sem desconto) * 12\n",
        "base_dados['arr_sdesc']= base_dados['mrr_venda'] * 12"
      ],
      "metadata": {
        "id": "94Tbrj-k-Ucq"
      },
      "execution_count": null,
      "outputs": []
    },
    {
      "cell_type": "code",
      "source": [
        "# soma total do arr sem desconto\n",
        "soma_arr_sdesc = base_dados['arr_sdesc'].sum().round(2)\n",
        "\n",
        "print(f'A soma da ARR foi sem desconto foi: {soma_arr_sdesc}')"
      ],
      "metadata": {
        "colab": {
          "base_uri": "https://localhost:8080/"
        },
        "id": "ulPX-FTUEMSd",
        "outputId": "92f8abea-bb98-47df-b614-ee68a6e58ca2"
      },
      "execution_count": null,
      "outputs": [
        {
          "output_type": "stream",
          "name": "stdout",
          "text": [
            "A soma da ARR foi sem desconto foi: 2898396.0\n"
          ]
        }
      ]
    },
    {
      "cell_type": "markdown",
      "source": [
        "**11. Tempo Médio para Fechamento da Venda: Média de tempo (em\n",
        "dias) que cada venda levou para ser concluída.**\n"
      ],
      "metadata": {
        "id": "vsk6B6K0Ewdl"
      }
    },
    {
      "cell_type": "code",
      "source": [
        "# dt_fechamento - dt_inicio\n",
        "base_dados['dias_para_fechamento_venda'] = (base_dados['dt_fechamento'] - base_dados['dt_inicio']).dt.days"
      ],
      "metadata": {
        "id": "7BPhbHd5EmBU"
      },
      "execution_count": null,
      "outputs": []
    },
    {
      "cell_type": "code",
      "source": [
        "# calculando a média de dias\n",
        "media_para_fechamento_venda = base_dados['dias_para_fechamento_venda'].mean().round(2)\n",
        "\n",
        "print(f'A média de dias para o fechamento da venda foi: {media_para_fechamento_venda}')"
      ],
      "metadata": {
        "colab": {
          "base_uri": "https://localhost:8080/"
        },
        "id": "bn38KqaLI_zQ",
        "outputId": "24dc1c7d-fa16-4960-b04f-ed53d1f18be8"
      },
      "execution_count": null,
      "outputs": [
        {
          "output_type": "stream",
          "name": "stdout",
          "text": [
            "A média de dias para o fechamento da venda foi: 46.56\n"
          ]
        }
      ]
    },
    {
      "cell_type": "markdown",
      "source": [
        "**Passo 4: Hipóteses extras**"
      ],
      "metadata": {
        "id": "Rdno9-NbLA1O"
      }
    },
    {
      "cell_type": "markdown",
      "source": [
        "**0. Uma procura rápida por correlações importantes**"
      ],
      "metadata": {
        "id": "rNeOT86KLIst"
      }
    },
    {
      "cell_type": "code",
      "source": [
        "# criar df com colunas numericas, exclusivamente\n",
        "colunas_num = base_dados.select_dtypes(include = ['int64', 'float64'])"
      ],
      "metadata": {
        "id": "pHFqumeNIGq8"
      },
      "execution_count": null,
      "outputs": []
    },
    {
      "cell_type": "code",
      "source": [
        "colunas_num.columns"
      ],
      "metadata": {
        "colab": {
          "base_uri": "https://localhost:8080/"
        },
        "id": "0WP5j6ckAMVO",
        "outputId": "79cb7b56-4407-40fb-8785-5d5861b220d5"
      },
      "execution_count": null,
      "outputs": [
        {
          "output_type": "execute_result",
          "data": {
            "text/plain": [
              "Index(['qtd_emissores_contrato', 'mrr_venda', 'periodo_desconto(meses)',\n",
              "       'desconto(%)', 'implantacao_desconto(%)',\n",
              "       'implantacao_valor_com_desconto', 'implantacao_parcelas',\n",
              "       'dia_pagamento_parcelas_mrr', 'mrr_desc_ponderado', 'arr_com_desconto',\n",
              "       'dias_para_fechamento_venda', 'arr_sdesc'],\n",
              "      dtype='object')"
            ]
          },
          "metadata": {},
          "execution_count": 28
        }
      ]
    },
    {
      "cell_type": "code",
      "source": [
        "# lista de colunas numericas irrelevantes\n",
        "colunas_irrelevantes = ['mrr_desc_ponderado', 'arr_com_desconto', 'arr_sdesc']\n",
        "\n",
        "# apagando colunas desnecessarias\n",
        "colunas_num = colunas_num.drop(columns = colunas_irrelevantes )"
      ],
      "metadata": {
        "id": "m1vgRmX_PSyY"
      },
      "execution_count": null,
      "outputs": []
    },
    {
      "cell_type": "code",
      "source": [
        "colunas_num['dias_para_fechamento_venda'] = base_dados['dias_para_fechamento_venda']"
      ],
      "metadata": {
        "id": "QyjoO9IKDqZj"
      },
      "execution_count": null,
      "outputs": []
    },
    {
      "cell_type": "code",
      "source": [
        "# matriz de correlação\n",
        "correlacao = colunas_num.corr()\n",
        "\n",
        "# mascara superior do heatmap\n",
        "mascara = np.triu(np.ones_like(correlacao, dtype = bool))\n",
        "\n",
        "# plotando o heatmap\n",
        "sns.heatmap(correlacao, mask = mascara, annot = True, fmt = '.2f')"
      ],
      "metadata": {
        "colab": {
          "base_uri": "https://localhost:8080/",
          "height": 668
        },
        "id": "MeNqdyS9PQ_O",
        "outputId": "2758b408-f5fe-404e-eff0-254cb0849afd"
      },
      "execution_count": null,
      "outputs": [
        {
          "output_type": "execute_result",
          "data": {
            "text/plain": [
              "<Axes: >"
            ]
          },
          "metadata": {},
          "execution_count": 32
        },
        {
          "output_type": "display_data",
          "data": {
            "text/plain": [
              "<Figure size 640x480 with 2 Axes>"
            ],
            "image/png": "[encoded data removed]"
          },
          "metadata": {}
        }
      ]
    },
    {
      "cell_type": "code",
      "source": [
        "# grafico de dispersão com valores no heatmap >= 0.6\n",
        "\n",
        "# criar 3 graficos de uma vez\n",
        "fig, axs = plt.subplots(1,3, figsize = (12,4))\n",
        "\n",
        "# grafico 1\n",
        "axs[0].scatter(colunas_num['desconto(%)'], colunas_num['periodo_desconto(meses)'])\n",
        "axs[0].set_title('Desconto vs Periodo de Desconto')\n",
        "axs[0].set_xlabel('Desconto')\n",
        "axs[0].set_ylabel('Período de Desconto')\n",
        "\n",
        "# grafico 2\n",
        "axs[1].scatter(colunas_num['mrr_venda'],colunas_num['qtd_emissores_contrato'])\n",
        "axs[1].set_title('MRR vs Qtd de Emissores')\n",
        "axs[1].set_xlabel('MRR (sem desconto)')\n",
        "axs[1].set_ylabel('Qtd de Emissores (por contrato)')\n",
        "\n",
        "# grafico 3\n",
        "axs[2].scatter(colunas_num['implantacao_valor_com_desconto'],colunas_num['qtd_emissores_contrato'])\n",
        "axs[2].set_title('Implantação vs Qtd de Emissores')\n",
        "axs[2].set_xlabel('Implantação (com desconto)')\n",
        "axs[2].set_ylabel('Qtd de Emissores (por contrato)')\n"
      ],
      "metadata": {
        "colab": {
          "base_uri": "https://localhost:8080/",
          "height": 427
        },
        "id": "caJbp6QU9PyP",
        "outputId": "9221abf7-62bb-47ae-9251-bba313954483"
      },
      "execution_count": null,
      "outputs": [
        {
          "output_type": "execute_result",
          "data": {
            "text/plain": [
              "Text(0, 0.5, 'Qtd de Emissores (por contrato)')"
            ]
          },
          "metadata": {},
          "execution_count": 50
        },
        {
          "output_type": "display_data",
          "data": {
            "text/plain": [
              "<Figure size 1200x400 with 3 Axes>"
            ],
            "image/png": "[encoded data removed]"
          },
          "metadata": {}
        }
      ]
    },
    {
      "cell_type": "markdown",
      "source": [
        "No mapa de calor, sinalizou-se uma forte correlação positiva entre os descontos e o período de descontos.\n",
        "Isso significa que quanto maior o desconto, maior também o período de desconto, com fator de correlção de 0,82."
      ],
      "metadata": {
        "id": "pWdnHEGOBH-m"
      }
    },
    {
      "cell_type": "markdown",
      "source": [
        "**1. Empresas com maiores descontos fecham contratos mais rapidamente.**"
      ],
      "metadata": {
        "id": "c6pKHyxjB3_G"
      }
    },
    {
      "cell_type": "code",
      "source": [
        "# calculando correlação entre desconto e dias necessarios para realização da venda\n",
        "correlacao2 = colunas_num['dias_para_fechamento_venda'].corr(colunas_num['desconto(%)'])\n",
        "\n",
        "print(correlacao2)"
      ],
      "metadata": {
        "colab": {
          "base_uri": "https://localhost:8080/"
        },
        "id": "JeO6Rv1jD-Yy",
        "outputId": "af4b7b85-0b55-49eb-be10-015fc2c2d8cd"
      },
      "execution_count": null,
      "outputs": [
        {
          "output_type": "stream",
          "name": "stdout",
          "text": [
            "-0.13862421204212882\n"
          ]
        }
      ]
    },
    {
      "cell_type": "markdown",
      "source": [
        "Partindo do grau de correlação, não há relação alguma entre desconto e dias para fechamento de venda."
      ],
      "metadata": {
        "id": "IZMssmPXEdgz"
      }
    },
    {
      "cell_type": "markdown",
      "source": [
        "**2. Ticket médio por consultor**"
      ],
      "metadata": {
        "id": "roQrbaugFOC5"
      }
    },
    {
      "cell_type": "code",
      "source": [
        "# calcunado o ticket total liquido, ou seja, já com os descontos\n",
        "base_dados['ticket_total'] = base_dados['mrr_desc_ponderado'] + base_dados['implantacao_valor_com_desconto']"
      ],
      "metadata": {
        "id": "8irfnGeuL07B"
      },
      "execution_count": null,
      "outputs": []
    },
    {
      "cell_type": "code",
      "source": [
        "# calculando o ticket médio de mrr com desconto por consultor\n",
        "\n",
        "ticket_medio_consultor = base_dados.groupby('consultor')['ticket_total'].mean()\n",
        "\n",
        "ticket_medio_consultor"
      ],
      "metadata": {
        "colab": {
          "base_uri": "https://localhost:8080/",
          "height": 178
        },
        "id": "CkgL5vbFULV-",
        "outputId": "5c9e66f3-2abf-475c-9c0e-0ae4ad5ac17b"
      },
      "execution_count": null,
      "outputs": [
        {
          "output_type": "execute_result",
          "data": {
            "text/plain": [
              "consultor\n",
              "EduardoFerreira    3873.246065\n",
              "ThaynáTheodoro     3649.015278\n",
              "Name: ticket_total, dtype: float64"
            ],
            "text/html": [
              "<div>\n",
              "<style scoped>\n",
              "    .dataframe tbody tr th:only-of-type {\n",
              "        vertical-align: middle;\n",
              "    }\n",
              "\n",
              "    .dataframe tbody tr th {\n",
              "        vertical-align: top;\n",
              "    }\n",
              "\n",
              "    .dataframe thead th {\n",
              "        text-align: right;\n",
              "    }\n",
              "</style>\n",
              "<table border=\"1\" class=\"dataframe\">\n",
              "  <thead>\n",
              "    <tr style=\"text-align: right;\">\n",
              "      <th></th>\n",
              "      <th>ticket_total</th>\n",
              "    </tr>\n",
              "    <tr>\n",
              "      <th>consultor</th>\n",
              "      <th></th>\n",
              "    </tr>\n",
              "  </thead>\n",
              "  <tbody>\n",
              "    <tr>\n",
              "      <th>EduardoFerreira</th>\n",
              "      <td>3873.246065</td>\n",
              "    </tr>\n",
              "    <tr>\n",
              "      <th>ThaynáTheodoro</th>\n",
              "      <td>3649.015278</td>\n",
              "    </tr>\n",
              "  </tbody>\n",
              "</table>\n",
              "</div><br><label><b>dtype:</b> float64</label>"
            ]
          },
          "metadata": {},
          "execution_count": 35
        }
      ]
    },
    {
      "cell_type": "markdown",
      "source": [
        "**3. Qual plano apresenta maior MRR e como isso impacta o tempo de fechamento e descontos?**"
      ],
      "metadata": {
        "id": "eStrn_FwqsIg"
      }
    },
    {
      "cell_type": "code",
      "source": [
        "base_dados.groupby('plano')[['desconto(%)', 'dias_para_fechamento_venda', 'ticket_total',]].mean().round(2).sort_values(by = 'ticket_total', ascending = False)"
      ],
      "metadata": {
        "colab": {
          "base_uri": "https://localhost:8080/",
          "height": 238
        },
        "id": "SDo1tO1FXXGA",
        "outputId": "14216323-9264-46c5-d0d7-d5778f2c0fc7"
      },
      "execution_count": null,
      "outputs": [
        {
          "output_type": "execute_result",
          "data": {
            "text/plain": [
              "               desconto(%)  dias_para_fechamento_venda  ticket_total\n",
              "plano                                                               \n",
              "PlanoIII             11.00                       18.50       9535.55\n",
              "PlanoEmpresas        17.00                      126.50       4993.81\n",
              "PlanoServicos        20.12                       45.59       4249.92\n",
              "PlanoII              30.67                       32.67       3548.08\n",
              "PlanoI               19.77                       49.55       2850.16"
            ],
            "text/html": [
              "\n",
              "  <div id=\"df-a2d3d717-c6a8-4906-8d67-f2f50dc3c0d9\" class=\"colab-df-container\">\n",
              "    <div>\n",
              "<style scoped>\n",
              "    .dataframe tbody tr th:only-of-type {\n",
              "        vertical-align: middle;\n",
              "    }\n",
              "\n",
              "    .dataframe tbody tr th {\n",
              "        vertical-align: top;\n",
              "    }\n",
              "\n",
              "    .dataframe thead th {\n",
              "        text-align: right;\n",
              "    }\n",
              "</style>\n",
              "<table border=\"1\" class=\"dataframe\">\n",
              "  <thead>\n",
              "    <tr style=\"text-align: right;\">\n",
              "      <th></th>\n",
              "      <th>desconto(%)</th>\n",
              "      <th>dias_para_fechamento_venda</th>\n",
              "      <th>ticket_total</th>\n",
              "    </tr>\n",
              "    <tr>\n",
              "      <th>plano</th>\n",
              "      <th></th>\n",
              "      <th></th>\n",
              "      <th></th>\n",
              "    </tr>\n",
              "  </thead>\n",
              "  <tbody>\n",
              "    <tr>\n",
              "      <th>PlanoIII</th>\n",
              "      <td>11.00</td>\n",
              "      <td>18.50</td>\n",
              "      <td>9535.55</td>\n",
              "    </tr>\n",
              "    <tr>\n",
              "      <th>PlanoEmpresas</th>\n",
              "      <td>17.00</td>\n",
              "      <td>126.50</td>\n",
              "      <td>4993.81</td>\n",
              "    </tr>\n",
              "    <tr>\n",
              "      <th>PlanoServicos</th>\n",
              "      <td>20.12</td>\n",
              "      <td>45.59</td>\n",
              "      <td>4249.92</td>\n",
              "    </tr>\n",
              "    <tr>\n",
              "      <th>PlanoII</th>\n",
              "      <td>30.67</td>\n",
              "      <td>32.67</td>\n",
              "      <td>3548.08</td>\n",
              "    </tr>\n",
              "    <tr>\n",
              "      <th>PlanoI</th>\n",
              "      <td>19.77</td>\n",
              "      <td>49.55</td>\n",
              "      <td>2850.16</td>\n",
              "    </tr>\n",
              "  </tbody>\n",
              "</table>\n",
              "</div>\n",
              "    <div class=\"colab-df-buttons\">\n",
              "\n",
              "  <div class=\"colab-df-container\">\n",
              "    <button class=\"colab-df-convert\" onclick=\"convertToInteractive('df-a2d3d717-c6a8-4906-8d67-f2f50dc3c0d9')\"\n",
              "            title=\"Convert this dataframe to an interactive table.\"\n",
              "            style=\"display:none;\">\n",
              "\n",
              "  <svg xmlns=\"http://www.w3.org/2000/svg\" height=\"24px\" viewBox=\"0 -960 960 960\">\n",
              "    <path d=\"M120-120v-720h720v720H120Zm60-500h600v-160H180v160Zm220 220h160v-160H400v160Zm0 220h160v-160H400v160ZM180-400h160v-160H180v160Zm440 0h160v-160H620v160ZM180-180h160v-160H180v160Zm440 0h160v-160H620v160Z\"/>\n",
              "  </svg>\n",
              "    </button>\n",
              "\n",
              "  <style>\n",
              "    .colab-df-container {\n",
              "      display:flex;\n",
              "      gap: 12px;\n",
              "    }\n",
              "\n",
              "    .colab-df-convert {\n",
              "      background-color: #E8F0FE;\n",
              "      border: none;\n",
              "      border-radius: 50%;\n",
              "      cursor: pointer;\n",
              "      display: none;\n",
              "      fill: #1967D2;\n",
              "      height: 32px;\n",
              "      padding: 0 0 0 0;\n",
              "      width: 32px;\n",
              "    }\n",
              "\n",
              "    .colab-df-convert:hover {\n",
              "      background-color: #E2EBFA;\n",
              "      box-shadow: 0px 1px 2px rgba(60, 64, 67, 0.3), 0px 1px 3px 1px rgba(60, 64, 67, 0.15);\n",
              "      fill: #174EA6;\n",
              "    }\n",
              "\n",
              "    .colab-df-buttons div {\n",
              "      margin-bottom: 4px;\n",
              "    }\n",
              "\n",
              "    [theme=dark] .colab-df-convert {\n",
              "      background-color: #3B4455;\n",
              "      fill: #D2E3FC;\n",
              "    }\n",
              "\n",
              "    [theme=dark] .colab-df-convert:hover {\n",
              "      background-color: #434B5C;\n",
              "      box-shadow: 0px 1px 3px 1px rgba(0, 0, 0, 0.15);\n",
              "      filter: drop-shadow(0px 1px 2px rgba(0, 0, 0, 0.3));\n",
              "      fill: #FFFFFF;\n",
              "    }\n",
              "  </style>\n",
              "\n",
              "    <script>\n",
              "      const buttonEl =\n",
              "        document.querySelector('#df-a2d3d717-c6a8-4906-8d67-f2f50dc3c0d9 button.colab-df-convert');\n",
              "      buttonEl.style.display =\n",
              "        google.colab.kernel.accessAllowed ? 'block' : 'none';\n",
              "\n",
              "      async function convertToInteractive(key) {\n",
              "        const element = document.querySelector('#df-a2d3d717-c6a8-4906-8d67-f2f50dc3c0d9');\n",
              "        const dataTable =\n",
              "          await google.colab.kernel.invokeFunction('convertToInteractive',\n",
              "                                                    [key], {});\n",
              "        if (!dataTable) return;\n",
              "\n",
              "        const docLinkHtml = 'Like what you see? Visit the ' +\n",
              "          '<a target=\"_blank\" href=https://colab.research.google.com/notebooks/data_table.ipynb>data table notebook</a>'\n",
              "          + ' to learn more about interactive tables.';\n",
              "        element.innerHTML = '';\n",
              "        dataTable['output_type'] = 'display_data';\n",
              "        await google.colab.output.renderOutput(dataTable, element);\n",
              "        const docLink = document.createElement('div');\n",
              "        docLink.innerHTML = docLinkHtml;\n",
              "        element.appendChild(docLink);\n",
              "      }\n",
              "    </script>\n",
              "  </div>\n",
              "\n",
              "\n",
              "<div id=\"df-4fa54012-963b-44dc-bba7-25ac2edfeb18\">\n",
              "  <button class=\"colab-df-quickchart\" onclick=\"quickchart('df-4fa54012-963b-44dc-bba7-25ac2edfeb18')\"\n",
              "            title=\"Suggest charts\"\n",
              "            style=\"display:none;\">\n",
              "\n",
              "<svg xmlns=\"http://www.w3.org/2000/svg\" height=\"24px\"viewBox=\"0 0 24 24\"\n",
              "     width=\"24px\">\n",
              "    <g>\n",
              "        <path d=\"M19 3H5c-1.1 0-2 .9-2 2v14c0 1.1.9 2 2 2h14c1.1 0 2-.9 2-2V5c0-1.1-.9-2-2-2zM9 17H7v-7h2v7zm4 0h-2V7h2v10zm4 0h-2v-4h2v4z\"/>\n",
              "    </g>\n",
              "</svg>\n",
              "  </button>\n",
              "\n",
              "<style>\n",
              "  .colab-df-quickchart {\n",
              "      --bg-color: #E8F0FE;\n",
              "      --fill-color: #1967D2;\n",
              "      --hover-bg-color: #E2EBFA;\n",
              "      --hover-fill-color: #174EA6;\n",
              "      --disabled-fill-color: #AAA;\n",
              "      --disabled-bg-color: #DDD;\n",
              "  }\n",
              "\n",
              "  [theme=dark] .colab-df-quickchart {\n",
              "      --bg-color: #3B4455;\n",
              "      --fill-color: #D2E3FC;\n",
              "      --hover-bg-color: #434B5C;\n",
              "      --hover-fill-color: #FFFFFF;\n",
              "      --disabled-bg-color: #3B4455;\n",
              "      --disabled-fill-color: #666;\n",
              "  }\n",
              "\n",
              "  .colab-df-quickchart {\n",
              "    background-color: var(--bg-color);\n",
              "    border: none;\n",
              "    border-radius: 50%;\n",
              "    cursor: pointer;\n",
              "    display: none;\n",
              "    fill: var(--fill-color);\n",
              "    height: 32px;\n",
              "    padding: 0;\n",
              "    width: 32px;\n",
              "  }\n",
              "\n",
              "  .colab-df-quickchart:hover {\n",
              "    background-color: var(--hover-bg-color);\n",
              "    box-shadow: 0 1px 2px rgba(60, 64, 67, 0.3), 0 1px 3px 1px rgba(60, 64, 67, 0.15);\n",
              "    fill: var(--button-hover-fill-color);\n",
              "  }\n",
              "\n",
              "  .colab-df-quickchart-complete:disabled,\n",
              "  .colab-df-quickchart-complete:disabled:hover {\n",
              "    background-color: var(--disabled-bg-color);\n",
              "    fill: var(--disabled-fill-color);\n",
              "    box-shadow: none;\n",
              "  }\n",
              "\n",
              "  .colab-df-spinner {\n",
              "    border: 2px solid var(--fill-color);\n",
              "    border-color: transparent;\n",
              "    border-bottom-color: var(--fill-color);\n",
              "    animation:\n",
              "      spin 1s steps(1) infinite;\n",
              "  }\n",
              "\n",
              "  @keyframes spin {\n",
              "    0% {\n",
              "      border-color: transparent;\n",
              "      border-bottom-color: var(--fill-color);\n",
              "      border-left-color: var(--fill-color);\n",
              "    }\n",
              "    20% {\n",
              "      border-color: transparent;\n",
              "      border-left-color: var(--fill-color);\n",
              "      border-top-color: var(--fill-color);\n",
              "    }\n",
              "    30% {\n",
              "      border-color: transparent;\n",
              "      border-left-color: var(--fill-color);\n",
              "      border-top-color: var(--fill-color);\n",
              "      border-right-color: var(--fill-color);\n",
              "    }\n",
              "    40% {\n",
              "      border-color: transparent;\n",
              "      border-right-color: var(--fill-color);\n",
              "      border-top-color: var(--fill-color);\n",
              "    }\n",
              "    60% {\n",
              "      border-color: transparent;\n",
              "      border-right-color: var(--fill-color);\n",
              "    }\n",
              "    80% {\n",
              "      border-color: transparent;\n",
              "      border-right-color: var(--fill-color);\n",
              "      border-bottom-color: var(--fill-color);\n",
              "    }\n",
              "    90% {\n",
              "      border-color: transparent;\n",
              "      border-bottom-color: var(--fill-color);\n",
              "    }\n",
              "  }\n",
              "</style>\n",
              "\n",
              "  <script>\n",
              "    async function quickchart(key) {\n",
              "      const quickchartButtonEl =\n",
              "        document.querySelector('#' + key + ' button');\n",
              "      quickchartButtonEl.disabled = true;  // To prevent multiple clicks.\n",
              "      quickchartButtonEl.classList.add('colab-df-spinner');\n",
              "      try {\n",
              "        const charts = await google.colab.kernel.invokeFunction(\n",
              "            'suggestCharts', [key], {});\n",
              "      } catch (error) {\n",
              "        console.error('Error during call to suggestCharts:', error);\n",
              "      }\n",
              "      quickchartButtonEl.classList.remove('colab-df-spinner');\n",
              "      quickchartButtonEl.classList.add('colab-df-quickchart-complete');\n",
              "    }\n",
              "    (() => {\n",
              "      let quickchartButtonEl =\n",
              "        document.querySelector('#df-4fa54012-963b-44dc-bba7-25ac2edfeb18 button');\n",
              "      quickchartButtonEl.style.display =\n",
              "        google.colab.kernel.accessAllowed ? 'block' : 'none';\n",
              "    })();\n",
              "  </script>\n",
              "</div>\n",
              "\n",
              "    </div>\n",
              "  </div>\n"
            ],
            "application/vnd.google.colaboratory.intrinsic+json": {
              "type": "dataframe",
              "summary": "{\n  \"name\": \"base_dados\",\n  \"rows\": 5,\n  \"fields\": [\n    {\n      \"column\": \"plano\",\n      \"properties\": {\n        \"dtype\": \"string\",\n        \"num_unique_values\": 5,\n        \"samples\": [\n          \"PlanoEmpresas\",\n          \"PlanoI\",\n          \"PlanoServicos\"\n        ],\n        \"semantic_type\": \"\",\n        \"description\": \"\"\n      }\n    },\n    {\n      \"column\": \"desconto(%)\",\n      \"properties\": {\n        \"dtype\": \"number\",\n        \"std\": 7.132697245782973,\n        \"min\": 11.0,\n        \"max\": 30.67,\n        \"num_unique_values\": 5,\n        \"samples\": [\n          17.0,\n          19.77,\n          20.12\n        ],\n        \"semantic_type\": \"\",\n        \"description\": \"\"\n      }\n    },\n    {\n      \"column\": \"dias_para_fechamento_venda\",\n      \"properties\": {\n        \"dtype\": \"number\",\n        \"std\": 42.0131535355298,\n        \"min\": 18.5,\n        \"max\": 126.5,\n        \"num_unique_values\": 5,\n        \"samples\": [\n          126.5,\n          49.55,\n          45.59\n        ],\n        \"semantic_type\": \"\",\n        \"description\": \"\"\n      }\n    },\n    {\n      \"column\": \"ticket_total\",\n      \"properties\": {\n        \"dtype\": \"number\",\n        \"std\": 2639.008012820347,\n        \"min\": 2850.16,\n        \"max\": 9535.55,\n        \"num_unique_values\": 5,\n        \"samples\": [\n          4993.81,\n          2850.16,\n          4249.92\n        ],\n        \"semantic_type\": \"\",\n        \"description\": \"\"\n      }\n    }\n  ]\n}"
            }
          },
          "metadata": {},
          "execution_count": 36
        }
      ]
    },
    {
      "cell_type": "markdown",
      "source": [
        "O plano 3 é o plano vendido mais rapidamente. Ele possui o menor desconto (11% em média) e o maior ticket médio (9.535,55).\n",
        "\n",
        "Já o plano 2, possui a maior média de desconto (30,67%) e o segundo menor ticket médio (3548,08), ficando atrás somente do plano 1 com ticket de 2.850,16.\n",
        "\n",
        "Já o plano que demanda maior tempo para realizar a venda é o PlanoEmpresas, necessitando, em torno de, 79 dias."
      ],
      "metadata": {
        "id": "6x1z7ec7cUbj"
      }
    },
    {
      "cell_type": "code",
      "source": [
        "base_dados.groupby('plano')[['dias_para_fechamento_venda', 'mrr_venda', 'implantacao_desconto(%)', 'ticket_total']].mean().round(2).sort_values(by = 'mrr_venda', ascending = False)"
      ],
      "metadata": {
        "colab": {
          "base_uri": "https://localhost:8080/",
          "height": 238
        },
        "id": "YFxfyxhSfhWI",
        "outputId": "d3e8e657-8dd0-4040-dae2-7eea5584fe82"
      },
      "execution_count": null,
      "outputs": [
        {
          "output_type": "execute_result",
          "data": {
            "text/plain": [
              "               dias_para_fechamento_venda  mrr_venda  implantacao_desconto(%)  \\\n",
              "plano                                                                           \n",
              "PlanoIII                            18.50    6445.00                     0.00   \n",
              "PlanoII                             32.67    2335.13                    16.14   \n",
              "PlanoServicos                       45.59    2077.65                    12.94   \n",
              "PlanoI                              56.59    1911.39                    12.05   \n",
              "PlanoEmpresas                       79.20    1817.00                    10.00   \n",
              "\n",
              "               ticket_total  \n",
              "plano                        \n",
              "PlanoIII            9535.55  \n",
              "PlanoII             3548.08  \n",
              "PlanoServicos       4249.92  \n",
              "PlanoI              2850.16  \n",
              "PlanoEmpresas       4993.81  "
            ],
            "text/html": [
              "\n",
              "  <div id=\"df-6177b1fa-69dd-4d4d-a292-8aebebddabc5\" class=\"colab-df-container\">\n",
              "    <div>\n",
              "<style scoped>\n",
              "    .dataframe tbody tr th:only-of-type {\n",
              "        vertical-align: middle;\n",
              "    }\n",
              "\n",
              "    .dataframe tbody tr th {\n",
              "        vertical-align: top;\n",
              "    }\n",
              "\n",
              "    .dataframe thead th {\n",
              "        text-align: right;\n",
              "    }\n",
              "</style>\n",
              "<table border=\"1\" class=\"dataframe\">\n",
              "  <thead>\n",
              "    <tr style=\"text-align: right;\">\n",
              "      <th></th>\n",
              "      <th>dias_para_fechamento_venda</th>\n",
              "      <th>mrr_venda</th>\n",
              "      <th>implantacao_desconto(%)</th>\n",
              "      <th>ticket_total</th>\n",
              "    </tr>\n",
              "    <tr>\n",
              "      <th>plano</th>\n",
              "      <th></th>\n",
              "      <th></th>\n",
              "      <th></th>\n",
              "      <th></th>\n",
              "    </tr>\n",
              "  </thead>\n",
              "  <tbody>\n",
              "    <tr>\n",
              "      <th>PlanoIII</th>\n",
              "      <td>18.50</td>\n",
              "      <td>6445.00</td>\n",
              "      <td>0.00</td>\n",
              "      <td>9535.55</td>\n",
              "    </tr>\n",
              "    <tr>\n",
              "      <th>PlanoII</th>\n",
              "      <td>32.67</td>\n",
              "      <td>2335.13</td>\n",
              "      <td>16.14</td>\n",
              "      <td>3548.08</td>\n",
              "    </tr>\n",
              "    <tr>\n",
              "      <th>PlanoServicos</th>\n",
              "      <td>45.59</td>\n",
              "      <td>2077.65</td>\n",
              "      <td>12.94</td>\n",
              "      <td>4249.92</td>\n",
              "    </tr>\n",
              "    <tr>\n",
              "      <th>PlanoI</th>\n",
              "      <td>56.59</td>\n",
              "      <td>1911.39</td>\n",
              "      <td>12.05</td>\n",
              "      <td>2850.16</td>\n",
              "    </tr>\n",
              "    <tr>\n",
              "      <th>PlanoEmpresas</th>\n",
              "      <td>79.20</td>\n",
              "      <td>1817.00</td>\n",
              "      <td>10.00</td>\n",
              "      <td>4993.81</td>\n",
              "    </tr>\n",
              "  </tbody>\n",
              "</table>\n",
              "</div>\n",
              "    <div class=\"colab-df-buttons\">\n",
              "\n",
              "  <div class=\"colab-df-container\">\n",
              "    <button class=\"colab-df-convert\" onclick=\"convertToInteractive('df-6177b1fa-69dd-4d4d-a292-8aebebddabc5')\"\n",
              "            title=\"Convert this dataframe to an interactive table.\"\n",
              "            style=\"display:none;\">\n",
              "\n",
              "  <svg xmlns=\"http://www.w3.org/2000/svg\" height=\"24px\" viewBox=\"0 -960 960 960\">\n",
              "    <path d=\"M120-120v-720h720v720H120Zm60-500h600v-160H180v160Zm220 220h160v-160H400v160Zm0 220h160v-160H400v160ZM180-400h160v-160H180v160Zm440 0h160v-160H620v160ZM180-180h160v-160H180v160Zm440 0h160v-160H620v160Z\"/>\n",
              "  </svg>\n",
              "    </button>\n",
              "\n",
              "  <style>\n",
              "    .colab-df-container {\n",
              "      display:flex;\n",
              "      gap: 12px;\n",
              "    }\n",
              "\n",
              "    .colab-df-convert {\n",
              "      background-color: #E8F0FE;\n",
              "      border: none;\n",
              "      border-radius: 50%;\n",
              "      cursor: pointer;\n",
              "      display: none;\n",
              "      fill: #1967D2;\n",
              "      height: 32px;\n",
              "      padding: 0 0 0 0;\n",
              "      width: 32px;\n",
              "    }\n",
              "\n",
              "    .colab-df-convert:hover {\n",
              "      background-color: #E2EBFA;\n",
              "      box-shadow: 0px 1px 2px rgba(60, 64, 67, 0.3), 0px 1px 3px 1px rgba(60, 64, 67, 0.15);\n",
              "      fill: #174EA6;\n",
              "    }\n",
              "\n",
              "    .colab-df-buttons div {\n",
              "      margin-bottom: 4px;\n",
              "    }\n",
              "\n",
              "    [theme=dark] .colab-df-convert {\n",
              "      background-color: #3B4455;\n",
              "      fill: #D2E3FC;\n",
              "    }\n",
              "\n",
              "    [theme=dark] .colab-df-convert:hover {\n",
              "      background-color: #434B5C;\n",
              "      box-shadow: 0px 1px 3px 1px rgba(0, 0, 0, 0.15);\n",
              "      filter: drop-shadow(0px 1px 2px rgba(0, 0, 0, 0.3));\n",
              "      fill: #FFFFFF;\n",
              "    }\n",
              "  </style>\n",
              "\n",
              "    <script>\n",
              "      const buttonEl =\n",
              "        document.querySelector('#df-6177b1fa-69dd-4d4d-a292-8aebebddabc5 button.colab-df-convert');\n",
              "      buttonEl.style.display =\n",
              "        google.colab.kernel.accessAllowed ? 'block' : 'none';\n",
              "\n",
              "      async function convertToInteractive(key) {\n",
              "        const element = document.querySelector('#df-6177b1fa-69dd-4d4d-a292-8aebebddabc5');\n",
              "        const dataTable =\n",
              "          await google.colab.kernel.invokeFunction('convertToInteractive',\n",
              "                                                    [key], {});\n",
              "        if (!dataTable) return;\n",
              "\n",
              "        const docLinkHtml = 'Like what you see? Visit the ' +\n",
              "          '<a target=\"_blank\" href=https://colab.research.google.com/notebooks/data_table.ipynb>data table notebook</a>'\n",
              "          + ' to learn more about interactive tables.';\n",
              "        element.innerHTML = '';\n",
              "        dataTable['output_type'] = 'display_data';\n",
              "        await google.colab.output.renderOutput(dataTable, element);\n",
              "        const docLink = document.createElement('div');\n",
              "        docLink.innerHTML = docLinkHtml;\n",
              "        element.appendChild(docLink);\n",
              "      }\n",
              "    </script>\n",
              "  </div>\n",
              "\n",
              "\n",
              "<div id=\"df-a599b65f-ac74-41b7-b13a-1594dab1c5f1\">\n",
              "  <button class=\"colab-df-quickchart\" onclick=\"quickchart('df-a599b65f-ac74-41b7-b13a-1594dab1c5f1')\"\n",
              "            title=\"Suggest charts\"\n",
              "            style=\"display:none;\">\n",
              "\n",
              "<svg xmlns=\"http://www.w3.org/2000/svg\" height=\"24px\"viewBox=\"0 0 24 24\"\n",
              "     width=\"24px\">\n",
              "    <g>\n",
              "        <path d=\"M19 3H5c-1.1 0-2 .9-2 2v14c0 1.1.9 2 2 2h14c1.1 0 2-.9 2-2V5c0-1.1-.9-2-2-2zM9 17H7v-7h2v7zm4 0h-2V7h2v10zm4 0h-2v-4h2v4z\"/>\n",
              "    </g>\n",
              "</svg>\n",
              "  </button>\n",
              "\n",
              "<style>\n",
              "  .colab-df-quickchart {\n",
              "      --bg-color: #E8F0FE;\n",
              "      --fill-color: #1967D2;\n",
              "      --hover-bg-color: #E2EBFA;\n",
              "      --hover-fill-color: #174EA6;\n",
              "      --disabled-fill-color: #AAA;\n",
              "      --disabled-bg-color: #DDD;\n",
              "  }\n",
              "\n",
              "  [theme=dark] .colab-df-quickchart {\n",
              "      --bg-color: #3B4455;\n",
              "      --fill-color: #D2E3FC;\n",
              "      --hover-bg-color: #434B5C;\n",
              "      --hover-fill-color: #FFFFFF;\n",
              "      --disabled-bg-color: #3B4455;\n",
              "      --disabled-fill-color: #666;\n",
              "  }\n",
              "\n",
              "  .colab-df-quickchart {\n",
              "    background-color: var(--bg-color);\n",
              "    border: none;\n",
              "    border-radius: 50%;\n",
              "    cursor: pointer;\n",
              "    display: none;\n",
              "    fill: var(--fill-color);\n",
              "    height: 32px;\n",
              "    padding: 0;\n",
              "    width: 32px;\n",
              "  }\n",
              "\n",
              "  .colab-df-quickchart:hover {\n",
              "    background-color: var(--hover-bg-color);\n",
              "    box-shadow: 0 1px 2px rgba(60, 64, 67, 0.3), 0 1px 3px 1px rgba(60, 64, 67, 0.15);\n",
              "    fill: var(--button-hover-fill-color);\n",
              "  }\n",
              "\n",
              "  .colab-df-quickchart-complete:disabled,\n",
              "  .colab-df-quickchart-complete:disabled:hover {\n",
              "    background-color: var(--disabled-bg-color);\n",
              "    fill: var(--disabled-fill-color);\n",
              "    box-shadow: none;\n",
              "  }\n",
              "\n",
              "  .colab-df-spinner {\n",
              "    border: 2px solid var(--fill-color);\n",
              "    border-color: transparent;\n",
              "    border-bottom-color: var(--fill-color);\n",
              "    animation:\n",
              "      spin 1s steps(1) infinite;\n",
              "  }\n",
              "\n",
              "  @keyframes spin {\n",
              "    0% {\n",
              "      border-color: transparent;\n",
              "      border-bottom-color: var(--fill-color);\n",
              "      border-left-color: var(--fill-color);\n",
              "    }\n",
              "    20% {\n",
              "      border-color: transparent;\n",
              "      border-left-color: var(--fill-color);\n",
              "      border-top-color: var(--fill-color);\n",
              "    }\n",
              "    30% {\n",
              "      border-color: transparent;\n",
              "      border-left-color: var(--fill-color);\n",
              "      border-top-color: var(--fill-color);\n",
              "      border-right-color: var(--fill-color);\n",
              "    }\n",
              "    40% {\n",
              "      border-color: transparent;\n",
              "      border-right-color: var(--fill-color);\n",
              "      border-top-color: var(--fill-color);\n",
              "    }\n",
              "    60% {\n",
              "      border-color: transparent;\n",
              "      border-right-color: var(--fill-color);\n",
              "    }\n",
              "    80% {\n",
              "      border-color: transparent;\n",
              "      border-right-color: var(--fill-color);\n",
              "      border-bottom-color: var(--fill-color);\n",
              "    }\n",
              "    90% {\n",
              "      border-color: transparent;\n",
              "      border-bottom-color: var(--fill-color);\n",
              "    }\n",
              "  }\n",
              "</style>\n",
              "\n",
              "  <script>\n",
              "    async function quickchart(key) {\n",
              "      const quickchartButtonEl =\n",
              "        document.querySelector('#' + key + ' button');\n",
              "      quickchartButtonEl.disabled = true;  // To prevent multiple clicks.\n",
              "      quickchartButtonEl.classList.add('colab-df-spinner');\n",
              "      try {\n",
              "        const charts = await google.colab.kernel.invokeFunction(\n",
              "            'suggestCharts', [key], {});\n",
              "      } catch (error) {\n",
              "        console.error('Error during call to suggestCharts:', error);\n",
              "      }\n",
              "      quickchartButtonEl.classList.remove('colab-df-spinner');\n",
              "      quickchartButtonEl.classList.add('colab-df-quickchart-complete');\n",
              "    }\n",
              "    (() => {\n",
              "      let quickchartButtonEl =\n",
              "        document.querySelector('#df-a599b65f-ac74-41b7-b13a-1594dab1c5f1 button');\n",
              "      quickchartButtonEl.style.display =\n",
              "        google.colab.kernel.accessAllowed ? 'block' : 'none';\n",
              "    })();\n",
              "  </script>\n",
              "</div>\n",
              "\n",
              "    </div>\n",
              "  </div>\n"
            ],
            "application/vnd.google.colaboratory.intrinsic+json": {
              "type": "dataframe",
              "summary": "{\n  \"name\": \"base_dados\",\n  \"rows\": 5,\n  \"fields\": [\n    {\n      \"column\": \"plano\",\n      \"properties\": {\n        \"dtype\": \"string\",\n        \"num_unique_values\": 5,\n        \"samples\": [\n          \"PlanoII\",\n          \"PlanoEmpresas\",\n          \"PlanoServicos\"\n        ],\n        \"semantic_type\": \"\",\n        \"description\": \"\"\n      }\n    },\n    {\n      \"column\": \"dias_para_fechamento_venda\",\n      \"properties\": {\n        \"dtype\": \"number\",\n        \"std\": 23.168915598275206,\n        \"min\": 18.5,\n        \"max\": 79.2,\n        \"num_unique_values\": 5,\n        \"samples\": [\n          32.67,\n          79.2,\n          45.59\n        ],\n        \"semantic_type\": \"\",\n        \"description\": \"\"\n      }\n    },\n    {\n      \"column\": \"mrr_venda\",\n      \"properties\": {\n        \"dtype\": \"number\",\n        \"std\": 1981.8625278838085,\n        \"min\": 1817.0,\n        \"max\": 6445.0,\n        \"num_unique_values\": 5,\n        \"samples\": [\n          2335.13,\n          1817.0,\n          2077.65\n        ],\n        \"semantic_type\": \"\",\n        \"description\": \"\"\n      }\n    },\n    {\n      \"column\": \"implantacao_desconto(%)\",\n      \"properties\": {\n        \"dtype\": \"number\",\n        \"std\": 6.129647624456075,\n        \"min\": 0.0,\n        \"max\": 16.14,\n        \"num_unique_values\": 5,\n        \"samples\": [\n          16.14,\n          10.0,\n          12.94\n        ],\n        \"semantic_type\": \"\",\n        \"description\": \"\"\n      }\n    },\n    {\n      \"column\": \"ticket_total\",\n      \"properties\": {\n        \"dtype\": \"number\",\n        \"std\": 2639.008012820347,\n        \"min\": 2850.16,\n        \"max\": 9535.55,\n        \"num_unique_values\": 5,\n        \"samples\": [\n          3548.08,\n          4993.81,\n          4249.92\n        ],\n        \"semantic_type\": \"\",\n        \"description\": \"\"\n      }\n    }\n  ]\n}"
            }
          },
          "metadata": {},
          "execution_count": 56
        }
      ]
    },
    {
      "cell_type": "markdown",
      "source": [
        "Aqui, nota-se uma relação inversamente proporcional entre os dias médio necessarios para conclusão das vendas e a mrr média da venda, isso divido por planos.\n",
        "Veja que quanto maior o tempo necessario para o fechamento da venda do plano, menor o mrr da venda."
      ],
      "metadata": {
        "id": "LhJ6bgY5fzx3"
      }
    },
    {
      "cell_type": "markdown",
      "source": [
        "Com exceção do plano 3 que não houve casos de implantação com desconto, nos demias planos é perceptível uma relação entre desconto na implantação e dias para concretização da venda. Quanto menor o desconto de implantação, maior o tempo de negociação."
      ],
      "metadata": {
        "id": "90iMLfzilCfY"
      }
    },
    {
      "cell_type": "code",
      "source": [
        "base_dados.groupby('sdr')[['mrr_venda', 'dias_para_fechamento_venda' , 'periodo_desconto(meses)','desconto(%)', 'ticket_total']].mean().round(2).sort_values(by = 'mrr_venda' ,ascending = False)"
      ],
      "metadata": {
        "colab": {
          "base_uri": "https://localhost:8080/",
          "height": 195
        },
        "id": "O_Lgn4yPaLKa",
        "outputId": "22f86a32-e257-4084-bb8d-6ef3fbce3214"
      },
      "execution_count": null,
      "outputs": [
        {
          "output_type": "execute_result",
          "data": {
            "text/plain": [
              "                    mrr_venda  dias_para_fechamento_venda  \\\n",
              "sdr                                                         \n",
              "LíviaAzevedo          2395.57                       36.37   \n",
              "PriscilaFormaggini    2306.53                       48.92   \n",
              "AmandaOliveira        2017.65                       45.32   \n",
              "\n",
              "                    periodo_desconto(meses)  desconto(%)  ticket_total  \n",
              "sdr                                                                     \n",
              "LíviaAzevedo                           7.80        28.29       3725.29  \n",
              "PriscilaFormaggini                     6.14        22.69       4008.84  \n",
              "AmandaOliveira                         6.32        24.59       3554.02  "
            ],
            "text/html": [
              "\n",
              "  <div id=\"df-164ccb0d-47e8-4ce2-bd34-7e3b2d96ba44\" class=\"colab-df-container\">\n",
              "    <div>\n",
              "<style scoped>\n",
              "    .dataframe tbody tr th:only-of-type {\n",
              "        vertical-align: middle;\n",
              "    }\n",
              "\n",
              "    .dataframe tbody tr th {\n",
              "        vertical-align: top;\n",
              "    }\n",
              "\n",
              "    .dataframe thead th {\n",
              "        text-align: right;\n",
              "    }\n",
              "</style>\n",
              "<table border=\"1\" class=\"dataframe\">\n",
              "  <thead>\n",
              "    <tr style=\"text-align: right;\">\n",
              "      <th></th>\n",
              "      <th>mrr_venda</th>\n",
              "      <th>dias_para_fechamento_venda</th>\n",
              "      <th>periodo_desconto(meses)</th>\n",
              "      <th>desconto(%)</th>\n",
              "      <th>ticket_total</th>\n",
              "    </tr>\n",
              "    <tr>\n",
              "      <th>sdr</th>\n",
              "      <th></th>\n",
              "      <th></th>\n",
              "      <th></th>\n",
              "      <th></th>\n",
              "      <th></th>\n",
              "    </tr>\n",
              "  </thead>\n",
              "  <tbody>\n",
              "    <tr>\n",
              "      <th>LíviaAzevedo</th>\n",
              "      <td>2395.57</td>\n",
              "      <td>36.37</td>\n",
              "      <td>7.80</td>\n",
              "      <td>28.29</td>\n",
              "      <td>3725.29</td>\n",
              "    </tr>\n",
              "    <tr>\n",
              "      <th>PriscilaFormaggini</th>\n",
              "      <td>2306.53</td>\n",
              "      <td>48.92</td>\n",
              "      <td>6.14</td>\n",
              "      <td>22.69</td>\n",
              "      <td>4008.84</td>\n",
              "    </tr>\n",
              "    <tr>\n",
              "      <th>AmandaOliveira</th>\n",
              "      <td>2017.65</td>\n",
              "      <td>45.32</td>\n",
              "      <td>6.32</td>\n",
              "      <td>24.59</td>\n",
              "      <td>3554.02</td>\n",
              "    </tr>\n",
              "  </tbody>\n",
              "</table>\n",
              "</div>\n",
              "    <div class=\"colab-df-buttons\">\n",
              "\n",
              "  <div class=\"colab-df-container\">\n",
              "    <button class=\"colab-df-convert\" onclick=\"convertToInteractive('df-164ccb0d-47e8-4ce2-bd34-7e3b2d96ba44')\"\n",
              "            title=\"Convert this dataframe to an interactive table.\"\n",
              "            style=\"display:none;\">\n",
              "\n",
              "  <svg xmlns=\"http://www.w3.org/2000/svg\" height=\"24px\" viewBox=\"0 -960 960 960\">\n",
              "    <path d=\"M120-120v-720h720v720H120Zm60-500h600v-160H180v160Zm220 220h160v-160H400v160Zm0 220h160v-160H400v160ZM180-400h160v-160H180v160Zm440 0h160v-160H620v160ZM180-180h160v-160H180v160Zm440 0h160v-160H620v160Z\"/>\n",
              "  </svg>\n",
              "    </button>\n",
              "\n",
              "  <style>\n",
              "    .colab-df-container {\n",
              "      display:flex;\n",
              "      gap: 12px;\n",
              "    }\n",
              "\n",
              "    .colab-df-convert {\n",
              "      background-color: #E8F0FE;\n",
              "      border: none;\n",
              "      border-radius: 50%;\n",
              "      cursor: pointer;\n",
              "      display: none;\n",
              "      fill: #1967D2;\n",
              "      height: 32px;\n",
              "      padding: 0 0 0 0;\n",
              "      width: 32px;\n",
              "    }\n",
              "\n",
              "    .colab-df-convert:hover {\n",
              "      background-color: #E2EBFA;\n",
              "      box-shadow: 0px 1px 2px rgba(60, 64, 67, 0.3), 0px 1px 3px 1px rgba(60, 64, 67, 0.15);\n",
              "      fill: #174EA6;\n",
              "    }\n",
              "\n",
              "    .colab-df-buttons div {\n",
              "      margin-bottom: 4px;\n",
              "    }\n",
              "\n",
              "    [theme=dark] .colab-df-convert {\n",
              "      background-color: #3B4455;\n",
              "      fill: #D2E3FC;\n",
              "    }\n",
              "\n",
              "    [theme=dark] .colab-df-convert:hover {\n",
              "      background-color: #434B5C;\n",
              "      box-shadow: 0px 1px 3px 1px rgba(0, 0, 0, 0.15);\n",
              "      filter: drop-shadow(0px 1px 2px rgba(0, 0, 0, 0.3));\n",
              "      fill: #FFFFFF;\n",
              "    }\n",
              "  </style>\n",
              "\n",
              "    <script>\n",
              "      const buttonEl =\n",
              "        document.querySelector('#df-164ccb0d-47e8-4ce2-bd34-7e3b2d96ba44 button.colab-df-convert');\n",
              "      buttonEl.style.display =\n",
              "        google.colab.kernel.accessAllowed ? 'block' : 'none';\n",
              "\n",
              "      async function convertToInteractive(key) {\n",
              "        const element = document.querySelector('#df-164ccb0d-47e8-4ce2-bd34-7e3b2d96ba44');\n",
              "        const dataTable =\n",
              "          await google.colab.kernel.invokeFunction('convertToInteractive',\n",
              "                                                    [key], {});\n",
              "        if (!dataTable) return;\n",
              "\n",
              "        const docLinkHtml = 'Like what you see? Visit the ' +\n",
              "          '<a target=\"_blank\" href=https://colab.research.google.com/notebooks/data_table.ipynb>data table notebook</a>'\n",
              "          + ' to learn more about interactive tables.';\n",
              "        element.innerHTML = '';\n",
              "        dataTable['output_type'] = 'display_data';\n",
              "        await google.colab.output.renderOutput(dataTable, element);\n",
              "        const docLink = document.createElement('div');\n",
              "        docLink.innerHTML = docLinkHtml;\n",
              "        element.appendChild(docLink);\n",
              "      }\n",
              "    </script>\n",
              "  </div>\n",
              "\n",
              "\n",
              "<div id=\"df-795eb476-8e3c-4152-bd48-53c6442c4a1d\">\n",
              "  <button class=\"colab-df-quickchart\" onclick=\"quickchart('df-795eb476-8e3c-4152-bd48-53c6442c4a1d')\"\n",
              "            title=\"Suggest charts\"\n",
              "            style=\"display:none;\">\n",
              "\n",
              "<svg xmlns=\"http://www.w3.org/2000/svg\" height=\"24px\"viewBox=\"0 0 24 24\"\n",
              "     width=\"24px\">\n",
              "    <g>\n",
              "        <path d=\"M19 3H5c-1.1 0-2 .9-2 2v14c0 1.1.9 2 2 2h14c1.1 0 2-.9 2-2V5c0-1.1-.9-2-2-2zM9 17H7v-7h2v7zm4 0h-2V7h2v10zm4 0h-2v-4h2v4z\"/>\n",
              "    </g>\n",
              "</svg>\n",
              "  </button>\n",
              "\n",
              "<style>\n",
              "  .colab-df-quickchart {\n",
              "      --bg-color: #E8F0FE;\n",
              "      --fill-color: #1967D2;\n",
              "      --hover-bg-color: #E2EBFA;\n",
              "      --hover-fill-color: #174EA6;\n",
              "      --disabled-fill-color: #AAA;\n",
              "      --disabled-bg-color: #DDD;\n",
              "  }\n",
              "\n",
              "  [theme=dark] .colab-df-quickchart {\n",
              "      --bg-color: #3B4455;\n",
              "      --fill-color: #D2E3FC;\n",
              "      --hover-bg-color: #434B5C;\n",
              "      --hover-fill-color: #FFFFFF;\n",
              "      --disabled-bg-color: #3B4455;\n",
              "      --disabled-fill-color: #666;\n",
              "  }\n",
              "\n",
              "  .colab-df-quickchart {\n",
              "    background-color: var(--bg-color);\n",
              "    border: none;\n",
              "    border-radius: 50%;\n",
              "    cursor: pointer;\n",
              "    display: none;\n",
              "    fill: var(--fill-color);\n",
              "    height: 32px;\n",
              "    padding: 0;\n",
              "    width: 32px;\n",
              "  }\n",
              "\n",
              "  .colab-df-quickchart:hover {\n",
              "    background-color: var(--hover-bg-color);\n",
              "    box-shadow: 0 1px 2px rgba(60, 64, 67, 0.3), 0 1px 3px 1px rgba(60, 64, 67, 0.15);\n",
              "    fill: var(--button-hover-fill-color);\n",
              "  }\n",
              "\n",
              "  .colab-df-quickchart-complete:disabled,\n",
              "  .colab-df-quickchart-complete:disabled:hover {\n",
              "    background-color: var(--disabled-bg-color);\n",
              "    fill: var(--disabled-fill-color);\n",
              "    box-shadow: none;\n",
              "  }\n",
              "\n",
              "  .colab-df-spinner {\n",
              "    border: 2px solid var(--fill-color);\n",
              "    border-color: transparent;\n",
              "    border-bottom-color: var(--fill-color);\n",
              "    animation:\n",
              "      spin 1s steps(1) infinite;\n",
              "  }\n",
              "\n",
              "  @keyframes spin {\n",
              "    0% {\n",
              "      border-color: transparent;\n",
              "      border-bottom-color: var(--fill-color);\n",
              "      border-left-color: var(--fill-color);\n",
              "    }\n",
              "    20% {\n",
              "      border-color: transparent;\n",
              "      border-left-color: var(--fill-color);\n",
              "      border-top-color: var(--fill-color);\n",
              "    }\n",
              "    30% {\n",
              "      border-color: transparent;\n",
              "      border-left-color: var(--fill-color);\n",
              "      border-top-color: var(--fill-color);\n",
              "      border-right-color: var(--fill-color);\n",
              "    }\n",
              "    40% {\n",
              "      border-color: transparent;\n",
              "      border-right-color: var(--fill-color);\n",
              "      border-top-color: var(--fill-color);\n",
              "    }\n",
              "    60% {\n",
              "      border-color: transparent;\n",
              "      border-right-color: var(--fill-color);\n",
              "    }\n",
              "    80% {\n",
              "      border-color: transparent;\n",
              "      border-right-color: var(--fill-color);\n",
              "      border-bottom-color: var(--fill-color);\n",
              "    }\n",
              "    90% {\n",
              "      border-color: transparent;\n",
              "      border-bottom-color: var(--fill-color);\n",
              "    }\n",
              "  }\n",
              "</style>\n",
              "\n",
              "  <script>\n",
              "    async function quickchart(key) {\n",
              "      const quickchartButtonEl =\n",
              "        document.querySelector('#' + key + ' button');\n",
              "      quickchartButtonEl.disabled = true;  // To prevent multiple clicks.\n",
              "      quickchartButtonEl.classList.add('colab-df-spinner');\n",
              "      try {\n",
              "        const charts = await google.colab.kernel.invokeFunction(\n",
              "            'suggestCharts', [key], {});\n",
              "      } catch (error) {\n",
              "        console.error('Error during call to suggestCharts:', error);\n",
              "      }\n",
              "      quickchartButtonEl.classList.remove('colab-df-spinner');\n",
              "      quickchartButtonEl.classList.add('colab-df-quickchart-complete');\n",
              "    }\n",
              "    (() => {\n",
              "      let quickchartButtonEl =\n",
              "        document.querySelector('#df-795eb476-8e3c-4152-bd48-53c6442c4a1d button');\n",
              "      quickchartButtonEl.style.display =\n",
              "        google.colab.kernel.accessAllowed ? 'block' : 'none';\n",
              "    })();\n",
              "  </script>\n",
              "</div>\n",
              "\n",
              "    </div>\n",
              "  </div>\n"
            ],
            "application/vnd.google.colaboratory.intrinsic+json": {
              "type": "dataframe",
              "summary": "{\n  \"name\": \"base_dados\",\n  \"rows\": 3,\n  \"fields\": [\n    {\n      \"column\": \"sdr\",\n      \"properties\": {\n        \"dtype\": \"string\",\n        \"num_unique_values\": 3,\n        \"samples\": [\n          \"L\\u00edviaAzevedo\",\n          \"PriscilaFormaggini\",\n          \"AmandaOliveira\"\n        ],\n        \"semantic_type\": \"\",\n        \"description\": \"\"\n      }\n    },\n    {\n      \"column\": \"mrr_venda\",\n      \"properties\": {\n        \"dtype\": \"number\",\n        \"std\": 197.56994643248083,\n        \"min\": 2017.65,\n        \"max\": 2395.57,\n        \"num_unique_values\": 3,\n        \"samples\": [\n          2395.57,\n          2306.53,\n          2017.65\n        ],\n        \"semantic_type\": \"\",\n        \"description\": \"\"\n      }\n    },\n    {\n      \"column\": \"dias_para_fechamento_venda\",\n      \"properties\": {\n        \"dtype\": \"number\",\n        \"std\": 6.462262245787722,\n        \"min\": 36.37,\n        \"max\": 48.92,\n        \"num_unique_values\": 3,\n        \"samples\": [\n          36.37,\n          48.92,\n          45.32\n        ],\n        \"semantic_type\": \"\",\n        \"description\": \"\"\n      }\n    },\n    {\n      \"column\": \"periodo_desconto(meses)\",\n      \"properties\": {\n        \"dtype\": \"number\",\n        \"std\": 0.9108969938106796,\n        \"min\": 6.14,\n        \"max\": 7.8,\n        \"num_unique_values\": 3,\n        \"samples\": [\n          7.8,\n          6.14,\n          6.32\n        ],\n        \"semantic_type\": \"\",\n        \"description\": \"\"\n      }\n    },\n    {\n      \"column\": \"desconto(%)\",\n      \"properties\": {\n        \"dtype\": \"number\",\n        \"std\": 2.8478061731796274,\n        \"min\": 22.69,\n        \"max\": 28.29,\n        \"num_unique_values\": 3,\n        \"samples\": [\n          28.29,\n          22.69,\n          24.59\n        ],\n        \"semantic_type\": \"\",\n        \"description\": \"\"\n      }\n    },\n    {\n      \"column\": \"ticket_total\",\n      \"properties\": {\n        \"dtype\": \"number\",\n        \"std\": 229.7082380615318,\n        \"min\": 3554.02,\n        \"max\": 4008.84,\n        \"num_unique_values\": 3,\n        \"samples\": [\n          3725.29,\n          4008.84,\n          3554.02\n        ],\n        \"semantic_type\": \"\",\n        \"description\": \"\"\n      }\n    }\n  ]\n}"
            }
          },
          "metadata": {},
          "execution_count": 54
        }
      ]
    },
    {
      "cell_type": "code",
      "source": [
        "base_dados.groupby('sdr')[['sdr']].value_counts()"
      ],
      "metadata": {
        "colab": {
          "base_uri": "https://localhost:8080/",
          "height": 210
        },
        "id": "J6Z0VabRyhuR",
        "outputId": "a79f6b2d-faca-4a63-c9c5-99cac0896c41"
      },
      "execution_count": null,
      "outputs": [
        {
          "output_type": "execute_result",
          "data": {
            "text/plain": [
              "sdr\n",
              "AmandaOliveira        37\n",
              "LíviaAzevedo          35\n",
              "PriscilaFormaggini    36\n",
              "Name: count, dtype: int64"
            ],
            "text/html": [
              "<div>\n",
              "<style scoped>\n",
              "    .dataframe tbody tr th:only-of-type {\n",
              "        vertical-align: middle;\n",
              "    }\n",
              "\n",
              "    .dataframe tbody tr th {\n",
              "        vertical-align: top;\n",
              "    }\n",
              "\n",
              "    .dataframe thead th {\n",
              "        text-align: right;\n",
              "    }\n",
              "</style>\n",
              "<table border=\"1\" class=\"dataframe\">\n",
              "  <thead>\n",
              "    <tr style=\"text-align: right;\">\n",
              "      <th></th>\n",
              "      <th>count</th>\n",
              "    </tr>\n",
              "    <tr>\n",
              "      <th>sdr</th>\n",
              "      <th></th>\n",
              "    </tr>\n",
              "  </thead>\n",
              "  <tbody>\n",
              "    <tr>\n",
              "      <th>AmandaOliveira</th>\n",
              "      <td>37</td>\n",
              "    </tr>\n",
              "    <tr>\n",
              "      <th>LíviaAzevedo</th>\n",
              "      <td>35</td>\n",
              "    </tr>\n",
              "    <tr>\n",
              "      <th>PriscilaFormaggini</th>\n",
              "      <td>36</td>\n",
              "    </tr>\n",
              "  </tbody>\n",
              "</table>\n",
              "</div><br><label><b>dtype:</b> int64</label>"
            ]
          },
          "metadata": {},
          "execution_count": 9
        }
      ]
    },
    {
      "cell_type": "code",
      "source": [
        "base_dados.groupby('plano')['plano'].value_counts().sort_values(ascending = False)"
      ],
      "metadata": {
        "colab": {
          "base_uri": "https://localhost:8080/",
          "height": 272
        },
        "id": "ZMbHIyKWRV0_",
        "outputId": "31418d4b-e32b-41fa-8483-08d372cac2f1"
      },
      "execution_count": null,
      "outputs": [
        {
          "output_type": "execute_result",
          "data": {
            "text/plain": [
              "plano\n",
              "PlanoII          57\n",
              "PlanoI           22\n",
              "PlanoServicos    17\n",
              "PlanoEmpresas    10\n",
              "PlanoIII          2\n",
              "Name: count, dtype: int64"
            ],
            "text/html": [
              "<div>\n",
              "<style scoped>\n",
              "    .dataframe tbody tr th:only-of-type {\n",
              "        vertical-align: middle;\n",
              "    }\n",
              "\n",
              "    .dataframe tbody tr th {\n",
              "        vertical-align: top;\n",
              "    }\n",
              "\n",
              "    .dataframe thead th {\n",
              "        text-align: right;\n",
              "    }\n",
              "</style>\n",
              "<table border=\"1\" class=\"dataframe\">\n",
              "  <thead>\n",
              "    <tr style=\"text-align: right;\">\n",
              "      <th></th>\n",
              "      <th>count</th>\n",
              "    </tr>\n",
              "    <tr>\n",
              "      <th>plano</th>\n",
              "      <th></th>\n",
              "    </tr>\n",
              "  </thead>\n",
              "  <tbody>\n",
              "    <tr>\n",
              "      <th>PlanoII</th>\n",
              "      <td>57</td>\n",
              "    </tr>\n",
              "    <tr>\n",
              "      <th>PlanoI</th>\n",
              "      <td>22</td>\n",
              "    </tr>\n",
              "    <tr>\n",
              "      <th>PlanoServicos</th>\n",
              "      <td>17</td>\n",
              "    </tr>\n",
              "    <tr>\n",
              "      <th>PlanoEmpresas</th>\n",
              "      <td>10</td>\n",
              "    </tr>\n",
              "    <tr>\n",
              "      <th>PlanoIII</th>\n",
              "      <td>2</td>\n",
              "    </tr>\n",
              "  </tbody>\n",
              "</table>\n",
              "</div><br><label><b>dtype:</b> int64</label>"
            ]
          },
          "metadata": {},
          "execution_count": 57
        }
      ]
    },
    {
      "cell_type": "markdown",
      "source": [
        "**BI: GRAFICO DE PIZZA DOS PLANOS**\n",
        "\n",
        "Entre os sdr, da para notar que os descontos influenciam no tempo necessario para conclusão da venda."
      ],
      "metadata": {
        "id": "8MfergYqRZrw"
      }
    },
    {
      "cell_type": "code",
      "source": [
        "base_dados.columns"
      ],
      "metadata": {
        "colab": {
          "base_uri": "https://localhost:8080/"
        },
        "id": "ziJjCU_FP0Bl",
        "outputId": "6a613e20-da42-46b7-d96d-16043e102d49"
      },
      "execution_count": null,
      "outputs": [
        {
          "output_type": "execute_result",
          "data": {
            "text/plain": [
              "Index(['dt_inicio', 'dt_fechamento', 'razao_social', 'cnpj', 'plano',\n",
              "       'qtd_emissores_contrato', 'mrr_venda', 'periodo_desconto(meses)',\n",
              "       'desconto(%)', 'implantacao_contrato', 'implantacao_desconto(%)',\n",
              "       'implantacao_valor_com_desconto', 'implantacao_parcelas',\n",
              "       'dia_pagamento_parcelas_mrr', 'sdr', 'consultor', 'mrr_desc_ponderado',\n",
              "       'arr_com_desconto', 'dias_para_fechamento_venda', 'ticket_total'],\n",
              "      dtype='object')"
            ]
          },
          "metadata": {},
          "execution_count": 47
        }
      ]
    },
    {
      "cell_type": "code",
      "source": [
        "# implantação valor sem desc\n",
        "\n",
        "base_dados['implantacao_valor_sem_desconto'] = (\n",
        "  base_dados['implantacao_valor_com_desconto'] / (1 - base_dados['implantacao_desconto(%)'] / 100)\n",
        ")"
      ],
      "metadata": {
        "id": "CG9g2__FQRWm"
      },
      "execution_count": null,
      "outputs": []
    },
    {
      "cell_type": "code",
      "source": [
        "# vendas por mês\n",
        "\n",
        "# coluna com o mês de cada venda\n",
        "base_dados['mes_venda'] = base_dados['dt_inicio'].dt.month\n",
        "\n",
        "# contando numero de vendas por mes por ondem de mês\n",
        "vendas_por_mes = base_dados['mes_venda'].value_counts().sort_index()\n",
        "\n",
        "vendas_por_mes\n"
      ],
      "metadata": {
        "colab": {
          "base_uri": "https://localhost:8080/",
          "height": 429
        },
        "id": "pBBNa5opQgx9",
        "outputId": "24c8095d-467e-48d4-872a-b3c12926b968"
      },
      "execution_count": null,
      "outputs": [
        {
          "output_type": "execute_result",
          "data": {
            "text/plain": [
              "mes_venda\n",
              "2      2\n",
              "4      5\n",
              "5      5\n",
              "6     17\n",
              "7     12\n",
              "8     22\n",
              "9      7\n",
              "10    18\n",
              "11    14\n",
              "12     6\n",
              "Name: count, dtype: int64"
            ],
            "text/html": [
              "<div>\n",
              "<style scoped>\n",
              "    .dataframe tbody tr th:only-of-type {\n",
              "        vertical-align: middle;\n",
              "    }\n",
              "\n",
              "    .dataframe tbody tr th {\n",
              "        vertical-align: top;\n",
              "    }\n",
              "\n",
              "    .dataframe thead th {\n",
              "        text-align: right;\n",
              "    }\n",
              "</style>\n",
              "<table border=\"1\" class=\"dataframe\">\n",
              "  <thead>\n",
              "    <tr style=\"text-align: right;\">\n",
              "      <th></th>\n",
              "      <th>count</th>\n",
              "    </tr>\n",
              "    <tr>\n",
              "      <th>mes_venda</th>\n",
              "      <th></th>\n",
              "    </tr>\n",
              "  </thead>\n",
              "  <tbody>\n",
              "    <tr>\n",
              "      <th>2</th>\n",
              "      <td>2</td>\n",
              "    </tr>\n",
              "    <tr>\n",
              "      <th>4</th>\n",
              "      <td>5</td>\n",
              "    </tr>\n",
              "    <tr>\n",
              "      <th>5</th>\n",
              "      <td>5</td>\n",
              "    </tr>\n",
              "    <tr>\n",
              "      <th>6</th>\n",
              "      <td>17</td>\n",
              "    </tr>\n",
              "    <tr>\n",
              "      <th>7</th>\n",
              "      <td>12</td>\n",
              "    </tr>\n",
              "    <tr>\n",
              "      <th>8</th>\n",
              "      <td>22</td>\n",
              "    </tr>\n",
              "    <tr>\n",
              "      <th>9</th>\n",
              "      <td>7</td>\n",
              "    </tr>\n",
              "    <tr>\n",
              "      <th>10</th>\n",
              "      <td>18</td>\n",
              "    </tr>\n",
              "    <tr>\n",
              "      <th>11</th>\n",
              "      <td>14</td>\n",
              "    </tr>\n",
              "    <tr>\n",
              "      <th>12</th>\n",
              "      <td>6</td>\n",
              "    </tr>\n",
              "  </tbody>\n",
              "</table>\n",
              "</div><br><label><b>dtype:</b> int64</label>"
            ]
          },
          "metadata": {},
          "execution_count": 61
        }
      ]
    },
    {
      "cell_type": "code",
      "source": [
        "#\n",
        "base_dados.groupby('mes_venda')[['ticket_total', 'mrr_venda']].mean().sort_values(by = ['ticket_total'],ascending = True)"
      ],
      "metadata": {
        "colab": {
          "base_uri": "https://localhost:8080/",
          "height": 394
        },
        "id": "y_MbOOf9W2UY",
        "outputId": "e9f61686-3564-4200-8e58-7484750fbb7a"
      },
      "execution_count": null,
      "outputs": [
        {
          "output_type": "execute_result",
          "data": {
            "text/plain": [
              "           ticket_total    mrr_venda\n",
              "mes_venda                           \n",
              "2           1380.000000   765.000000\n",
              "9           2211.160714  1069.285714\n",
              "11          2598.875000  1072.857143\n",
              "10          3132.850694  1174.166667\n",
              "5           3422.775000  1986.000000\n",
              "8           3706.606250  2328.068182\n",
              "4           4154.040000  2664.000000\n",
              "12          4298.458333  2102.500000\n",
              "7           4631.029167  3749.166667\n",
              "6           5552.700735  3781.794118"
            ],
            "text/html": [
              "\n",
              "  <div id=\"df-dd23aaed-0330-4b08-b612-afb8f5e9062e\" class=\"colab-df-container\">\n",
              "    <div>\n",
              "<style scoped>\n",
              "    .dataframe tbody tr th:only-of-type {\n",
              "        vertical-align: middle;\n",
              "    }\n",
              "\n",
              "    .dataframe tbody tr th {\n",
              "        vertical-align: top;\n",
              "    }\n",
              "\n",
              "    .dataframe thead th {\n",
              "        text-align: right;\n",
              "    }\n",
              "</style>\n",
              "<table border=\"1\" class=\"dataframe\">\n",
              "  <thead>\n",
              "    <tr style=\"text-align: right;\">\n",
              "      <th></th>\n",
              "      <th>ticket_total</th>\n",
              "      <th>mrr_venda</th>\n",
              "    </tr>\n",
              "    <tr>\n",
              "      <th>mes_venda</th>\n",
              "      <th></th>\n",
              "      <th></th>\n",
              "    </tr>\n",
              "  </thead>\n",
              "  <tbody>\n",
              "    <tr>\n",
              "      <th>2</th>\n",
              "      <td>1380.000000</td>\n",
              "      <td>765.000000</td>\n",
              "    </tr>\n",
              "    <tr>\n",
              "      <th>9</th>\n",
              "      <td>2211.160714</td>\n",
              "      <td>1069.285714</td>\n",
              "    </tr>\n",
              "    <tr>\n",
              "      <th>11</th>\n",
              "      <td>2598.875000</td>\n",
              "      <td>1072.857143</td>\n",
              "    </tr>\n",
              "    <tr>\n",
              "      <th>10</th>\n",
              "      <td>3132.850694</td>\n",
              "      <td>1174.166667</td>\n",
              "    </tr>\n",
              "    <tr>\n",
              "      <th>5</th>\n",
              "      <td>3422.775000</td>\n",
              "      <td>1986.000000</td>\n",
              "    </tr>\n",
              "    <tr>\n",
              "      <th>8</th>\n",
              "      <td>3706.606250</td>\n",
              "      <td>2328.068182</td>\n",
              "    </tr>\n",
              "    <tr>\n",
              "      <th>4</th>\n",
              "      <td>4154.040000</td>\n",
              "      <td>2664.000000</td>\n",
              "    </tr>\n",
              "    <tr>\n",
              "      <th>12</th>\n",
              "      <td>4298.458333</td>\n",
              "      <td>2102.500000</td>\n",
              "    </tr>\n",
              "    <tr>\n",
              "      <th>7</th>\n",
              "      <td>4631.029167</td>\n",
              "      <td>3749.166667</td>\n",
              "    </tr>\n",
              "    <tr>\n",
              "      <th>6</th>\n",
              "      <td>5552.700735</td>\n",
              "      <td>3781.794118</td>\n",
              "    </tr>\n",
              "  </tbody>\n",
              "</table>\n",
              "</div>\n",
              "    <div class=\"colab-df-buttons\">\n",
              "\n",
              "  <div class=\"colab-df-container\">\n",
              "    <button class=\"colab-df-convert\" onclick=\"convertToInteractive('df-dd23aaed-0330-4b08-b612-afb8f5e9062e')\"\n",
              "            title=\"Convert this dataframe to an interactive table.\"\n",
              "            style=\"display:none;\">\n",
              "\n",
              "  <svg xmlns=\"http://www.w3.org/2000/svg\" height=\"24px\" viewBox=\"0 -960 960 960\">\n",
              "    <path d=\"M120-120v-720h720v720H120Zm60-500h600v-160H180v160Zm220 220h160v-160H400v160Zm0 220h160v-160H400v160ZM180-400h160v-160H180v160Zm440 0h160v-160H620v160ZM180-180h160v-160H180v160Zm440 0h160v-160H620v160Z\"/>\n",
              "  </svg>\n",
              "    </button>\n",
              "\n",
              "  <style>\n",
              "    .colab-df-container {\n",
              "      display:flex;\n",
              "      gap: 12px;\n",
              "    }\n",
              "\n",
              "    .colab-df-convert {\n",
              "      background-color: #E8F0FE;\n",
              "      border: none;\n",
              "      border-radius: 50%;\n",
              "      cursor: pointer;\n",
              "      display: none;\n",
              "      fill: #1967D2;\n",
              "      height: 32px;\n",
              "      padding: 0 0 0 0;\n",
              "      width: 32px;\n",
              "    }\n",
              "\n",
              "    .colab-df-convert:hover {\n",
              "      background-color: #E2EBFA;\n",
              "      box-shadow: 0px 1px 2px rgba(60, 64, 67, 0.3), 0px 1px 3px 1px rgba(60, 64, 67, 0.15);\n",
              "      fill: #174EA6;\n",
              "    }\n",
              "\n",
              "    .colab-df-buttons div {\n",
              "      margin-bottom: 4px;\n",
              "    }\n",
              "\n",
              "    [theme=dark] .colab-df-convert {\n",
              "      background-color: #3B4455;\n",
              "      fill: #D2E3FC;\n",
              "    }\n",
              "\n",
              "    [theme=dark] .colab-df-convert:hover {\n",
              "      background-color: #434B5C;\n",
              "      box-shadow: 0px 1px 3px 1px rgba(0, 0, 0, 0.15);\n",
              "      filter: drop-shadow(0px 1px 2px rgba(0, 0, 0, 0.3));\n",
              "      fill: #FFFFFF;\n",
              "    }\n",
              "  </style>\n",
              "\n",
              "    <script>\n",
              "      const buttonEl =\n",
              "        document.querySelector('#df-dd23aaed-0330-4b08-b612-afb8f5e9062e button.colab-df-convert');\n",
              "      buttonEl.style.display =\n",
              "        google.colab.kernel.accessAllowed ? 'block' : 'none';\n",
              "\n",
              "      async function convertToInteractive(key) {\n",
              "        const element = document.querySelector('#df-dd23aaed-0330-4b08-b612-afb8f5e9062e');\n",
              "        const dataTable =\n",
              "          await google.colab.kernel.invokeFunction('convertToInteractive',\n",
              "                                                    [key], {});\n",
              "        if (!dataTable) return;\n",
              "\n",
              "        const docLinkHtml = 'Like what you see? Visit the ' +\n",
              "          '<a target=\"_blank\" href=https://colab.research.google.com/notebooks/data_table.ipynb>data table notebook</a>'\n",
              "          + ' to learn more about interactive tables.';\n",
              "        element.innerHTML = '';\n",
              "        dataTable['output_type'] = 'display_data';\n",
              "        await google.colab.output.renderOutput(dataTable, element);\n",
              "        const docLink = document.createElement('div');\n",
              "        docLink.innerHTML = docLinkHtml;\n",
              "        element.appendChild(docLink);\n",
              "      }\n",
              "    </script>\n",
              "  </div>\n",
              "\n",
              "\n",
              "<div id=\"df-05c1cdb8-6c74-4d36-9228-0cc24633c777\">\n",
              "  <button class=\"colab-df-quickchart\" onclick=\"quickchart('df-05c1cdb8-6c74-4d36-9228-0cc24633c777')\"\n",
              "            title=\"Suggest charts\"\n",
              "            style=\"display:none;\">\n",
              "\n",
              "<svg xmlns=\"http://www.w3.org/2000/svg\" height=\"24px\"viewBox=\"0 0 24 24\"\n",
              "     width=\"24px\">\n",
              "    <g>\n",
              "        <path d=\"M19 3H5c-1.1 0-2 .9-2 2v14c0 1.1.9 2 2 2h14c1.1 0 2-.9 2-2V5c0-1.1-.9-2-2-2zM9 17H7v-7h2v7zm4 0h-2V7h2v10zm4 0h-2v-4h2v4z\"/>\n",
              "    </g>\n",
              "</svg>\n",
              "  </button>\n",
              "\n",
              "<style>\n",
              "  .colab-df-quickchart {\n",
              "      --bg-color: #E8F0FE;\n",
              "      --fill-color: #1967D2;\n",
              "      --hover-bg-color: #E2EBFA;\n",
              "      --hover-fill-color: #174EA6;\n",
              "      --disabled-fill-color: #AAA;\n",
              "      --disabled-bg-color: #DDD;\n",
              "  }\n",
              "\n",
              "  [theme=dark] .colab-df-quickchart {\n",
              "      --bg-color: #3B4455;\n",
              "      --fill-color: #D2E3FC;\n",
              "      --hover-bg-color: #434B5C;\n",
              "      --hover-fill-color: #FFFFFF;\n",
              "      --disabled-bg-color: #3B4455;\n",
              "      --disabled-fill-color: #666;\n",
              "  }\n",
              "\n",
              "  .colab-df-quickchart {\n",
              "    background-color: var(--bg-color);\n",
              "    border: none;\n",
              "    border-radius: 50%;\n",
              "    cursor: pointer;\n",
              "    display: none;\n",
              "    fill: var(--fill-color);\n",
              "    height: 32px;\n",
              "    padding: 0;\n",
              "    width: 32px;\n",
              "  }\n",
              "\n",
              "  .colab-df-quickchart:hover {\n",
              "    background-color: var(--hover-bg-color);\n",
              "    box-shadow: 0 1px 2px rgba(60, 64, 67, 0.3), 0 1px 3px 1px rgba(60, 64, 67, 0.15);\n",
              "    fill: var(--button-hover-fill-color);\n",
              "  }\n",
              "\n",
              "  .colab-df-quickchart-complete:disabled,\n",
              "  .colab-df-quickchart-complete:disabled:hover {\n",
              "    background-color: var(--disabled-bg-color);\n",
              "    fill: var(--disabled-fill-color);\n",
              "    box-shadow: none;\n",
              "  }\n",
              "\n",
              "  .colab-df-spinner {\n",
              "    border: 2px solid var(--fill-color);\n",
              "    border-color: transparent;\n",
              "    border-bottom-color: var(--fill-color);\n",
              "    animation:\n",
              "      spin 1s steps(1) infinite;\n",
              "  }\n",
              "\n",
              "  @keyframes spin {\n",
              "    0% {\n",
              "      border-color: transparent;\n",
              "      border-bottom-color: var(--fill-color);\n",
              "      border-left-color: var(--fill-color);\n",
              "    }\n",
              "    20% {\n",
              "      border-color: transparent;\n",
              "      border-left-color: var(--fill-color);\n",
              "      border-top-color: var(--fill-color);\n",
              "    }\n",
              "    30% {\n",
              "      border-color: transparent;\n",
              "      border-left-color: var(--fill-color);\n",
              "      border-top-color: var(--fill-color);\n",
              "      border-right-color: var(--fill-color);\n",
              "    }\n",
              "    40% {\n",
              "      border-color: transparent;\n",
              "      border-right-color: var(--fill-color);\n",
              "      border-top-color: var(--fill-color);\n",
              "    }\n",
              "    60% {\n",
              "      border-color: transparent;\n",
              "      border-right-color: var(--fill-color);\n",
              "    }\n",
              "    80% {\n",
              "      border-color: transparent;\n",
              "      border-right-color: var(--fill-color);\n",
              "      border-bottom-color: var(--fill-color);\n",
              "    }\n",
              "    90% {\n",
              "      border-color: transparent;\n",
              "      border-bottom-color: var(--fill-color);\n",
              "    }\n",
              "  }\n",
              "</style>\n",
              "\n",
              "  <script>\n",
              "    async function quickchart(key) {\n",
              "      const quickchartButtonEl =\n",
              "        document.querySelector('#' + key + ' button');\n",
              "      quickchartButtonEl.disabled = true;  // To prevent multiple clicks.\n",
              "      quickchartButtonEl.classList.add('colab-df-spinner');\n",
              "      try {\n",
              "        const charts = await google.colab.kernel.invokeFunction(\n",
              "            'suggestCharts', [key], {});\n",
              "      } catch (error) {\n",
              "        console.error('Error during call to suggestCharts:', error);\n",
              "      }\n",
              "      quickchartButtonEl.classList.remove('colab-df-spinner');\n",
              "      quickchartButtonEl.classList.add('colab-df-quickchart-complete');\n",
              "    }\n",
              "    (() => {\n",
              "      let quickchartButtonEl =\n",
              "        document.querySelector('#df-05c1cdb8-6c74-4d36-9228-0cc24633c777 button');\n",
              "      quickchartButtonEl.style.display =\n",
              "        google.colab.kernel.accessAllowed ? 'block' : 'none';\n",
              "    })();\n",
              "  </script>\n",
              "</div>\n",
              "\n",
              "    </div>\n",
              "  </div>\n"
            ],
            "application/vnd.google.colaboratory.intrinsic+json": {
              "type": "dataframe",
              "summary": "{\n  \"name\": \"base_dados\",\n  \"rows\": 10,\n  \"fields\": [\n    {\n      \"column\": \"mes_venda\",\n      \"properties\": {\n        \"dtype\": \"int32\",\n        \"num_unique_values\": 10,\n        \"samples\": [\n          7,\n          9,\n          8\n        ],\n        \"semantic_type\": \"\",\n        \"description\": \"\"\n      }\n    },\n    {\n      \"column\": \"ticket_total\",\n      \"properties\": {\n        \"dtype\": \"number\",\n        \"std\": 1234.1578140412068,\n        \"min\": 1380.0,\n        \"max\": 5552.700735294118,\n        \"num_unique_values\": 10,\n        \"samples\": [\n          4631.029166666666,\n          2211.160714285714,\n          3706.60625\n        ],\n        \"semantic_type\": \"\",\n        \"description\": \"\"\n      }\n    },\n    {\n      \"column\": \"mrr_venda\",\n      \"properties\": {\n        \"dtype\": \"number\",\n        \"std\": 1089.2733267690494,\n        \"min\": 765.0,\n        \"max\": 3781.794117647059,\n        \"num_unique_values\": 10,\n        \"samples\": [\n          3749.1666666666665,\n          1069.2857142857142,\n          2328.068181818182\n        ],\n        \"semantic_type\": \"\",\n        \"description\": \"\"\n      }\n    }\n  ]\n}"
            }
          },
          "metadata": {},
          "execution_count": 69
        }
      ]
    },
    {
      "cell_type": "markdown",
      "source": [
        "Em fevereiro, obtivemos os menores tickets liquidos (mrr + implantação) com 1380, em média, enquanto em junho, o maior com 5552."
      ],
      "metadata": {
        "id": "bc4puR1OYJB3"
      }
    }
  ]
}
